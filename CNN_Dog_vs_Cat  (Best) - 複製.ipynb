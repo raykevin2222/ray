{
 "cells": [
  {
   "cell_type": "markdown",
   "metadata": {},
   "source": [
    "# 計算機程式期末報告-貓狗分辨"
   ]
  },
  {
   "cell_type": "markdown",
   "metadata": {},
   "source": [
    "## 組員名單:\n",
    "統計二 107304006 呂嘉恩\n",
    "\n",
    "統計二 107304009 吳松霖\n",
    "\n",
    "統計二 107304033 蔡睿承\n",
    "\n",
    "財政二 107205018 黃國洋"
   ]
  },
  {
   "cell_type": "markdown",
   "metadata": {},
   "source": [
    "## 專案分工:"
   ]
  },
  {
   "cell_type": "markdown",
   "metadata": {},
   "source": [
    "統計二 107304006 呂嘉恩：資料搜尋，建模及找出較好的數字"
   ]
  },
  {
   "cell_type": "markdown",
   "metadata": {},
   "source": [
    "統計二 107304009 吳松霖：資料集的分類整理、建模，打註解"
   ]
  },
  {
   "cell_type": "markdown",
   "metadata": {},
   "source": [
    "統計二 107304033 蔡睿承：資料集分類整理、打亂，Debug，打註解"
   ]
  },
  {
   "cell_type": "markdown",
   "metadata": {},
   "source": [
    "財政二 107205018 黃國洋：資料搜尋，建模及找出最好的優化器"
   ]
  },
  {
   "cell_type": "markdown",
   "metadata": {},
   "source": [
    "由於是大家聚在一起做的，全員都有參與到，所以其實很難細分"
   ]
  },
  {
   "cell_type": "markdown",
   "metadata": {},
   "source": [
    "## 問題發想:"
   ]
  },
  {
   "cell_type": "markdown",
   "metadata": {},
   "source": [
    "我們好奇同為長身體四隻腳兩耳朵，體態相近的貓跟狗，僅有些許五官面孔的不同，"
   ]
  },
  {
   "cell_type": "markdown",
   "metadata": {},
   "source": [
    "AI是否能夠準確的辨認出來。"
   ]
  },
  {
   "cell_type": "markdown",
   "metadata": {},
   "source": [
    "因此採用外型相同，五官輪廓較明顯不同的貓和狗，作為訓練資料，應該較不易有問題。"
   ]
  },
  {
   "cell_type": "markdown",
   "metadata": {},
   "source": [
    "## 流程介紹:"
   ]
  },
  {
   "cell_type": "markdown",
   "metadata": {},
   "source": [
    "這次總共呈現了兩個模型，分別是模型一及模型二。"
   ]
  },
  {
   "cell_type": "markdown",
   "metadata": {},
   "source": [
    "模型一為我們較早期做出的模型，模型一共用了三種不同的最佳化辦法，取了準確率最高的Adam作為優化器的選擇。"
   ]
  },
  {
   "cell_type": "markdown",
   "metadata": {},
   "source": [
    "但我們後來在進行優化調整時，發現由於經驗不足，而沒有將資料集打亂再進行訓練。"
   ]
  },
  {
   "cell_type": "markdown",
   "metadata": {},
   "source": [
    "而我們用的分類方式又沒辦法很好的將其打亂，因此模型二我們採用了不同的資料分類方式。而準確率有些許提升。"
   ]
  },
  {
   "cell_type": "markdown",
   "metadata": {},
   "source": [
    "#### 簡易流程如下："
   ]
  },
  {
   "cell_type": "markdown",
   "metadata": {},
   "source": [
    "#### 模型一"
   ]
  },
  {
   "cell_type": "markdown",
   "metadata": {},
   "source": [
    "1.載入模組"
   ]
  },
  {
   "cell_type": "markdown",
   "metadata": {},
   "source": [
    "2.匯入資料集並整理"
   ]
  },
  {
   "cell_type": "markdown",
   "metadata": {},
   "source": [
    "3.打造CNN模型"
   ]
  },
  {
   "cell_type": "markdown",
   "metadata": {},
   "source": [
    "4.訓練資料"
   ]
  },
  {
   "cell_type": "markdown",
   "metadata": {},
   "source": [
    "5.預測"
   ]
  },
  {
   "cell_type": "markdown",
   "metadata": {},
   "source": [
    "#### 模型二"
   ]
  },
  {
   "cell_type": "markdown",
   "metadata": {},
   "source": [
    "1.載入模組"
   ]
  },
  {
   "cell_type": "markdown",
   "metadata": {},
   "source": [
    "2.匯入資料集並將其打亂"
   ]
  },
  {
   "cell_type": "markdown",
   "metadata": {},
   "source": [
    "3.將打亂資料集做整理"
   ]
  },
  {
   "cell_type": "markdown",
   "metadata": {},
   "source": [
    "4.打造CNN模型"
   ]
  },
  {
   "cell_type": "markdown",
   "metadata": {},
   "source": [
    "5.訓練資料"
   ]
  },
  {
   "cell_type": "markdown",
   "metadata": {},
   "source": [
    "6.預測"
   ]
  },
  {
   "cell_type": "markdown",
   "metadata": {},
   "source": [
    "## 資料來源:"
   ]
  },
  {
   "cell_type": "markdown",
   "metadata": {},
   "source": [
    "Kaggle:'https://www.kaggle.com/c/dogs-vs-cats'"
   ]
  },
  {
   "cell_type": "markdown",
   "metadata": {},
   "source": [
    "　　"
   ]
  },
  {
   "cell_type": "markdown",
   "metadata": {},
   "source": [
    "# 模型一"
   ]
  },
  {
   "cell_type": "code",
   "execution_count": 1,
   "metadata": {},
   "outputs": [],
   "source": [
    "%matplotlib inline\n",
    "\n",
    "import numpy as np\n",
    "import matplotlib.pyplot as plt\n",
    "import pandas as pd\n",
    "import tensorflow as tf\n",
    "from tensorflow.keras.models import Sequential\n",
    "from tensorflow.keras.layers import Conv2D, MaxPooling2D\n",
    "from tensorflow.keras.layers import Dense, Flatten\n",
    "from tensorflow.keras.optimizers import SGD\n",
    "import os #處理文件用\n",
    "import cv2 #處理影像"
   ]
  },
  {
   "cell_type": "code",
   "execution_count": 2,
   "metadata": {
    "scrolled": false
   },
   "outputs": [
    {
     "name": "stdout",
     "output_type": "stream",
     "text": [
      "['.git', '.ipynb_checkpoints', 'cat.jpg', 'cat2.jpg', 'CNN_Dog_vs_Cat  (Best) - 複製 - 複製 (2).ipynb', 'CNN_Dog_vs_Cat  (Best) - 複製.ipynb', 'CNN_Dog_vs_Cat  (Best).ipynb', 'CNN_Dog_vs_Cat 2 (Best).ipynb', 'dog.jpg', 'dog2.jpg', 'example.png', 'homework5.ipynb', 'hw001.ipynb', 'hw002.ipynb', 'hw003.ipynb', 'hw004.ipynb', 'hw04.ipynb', 'hw1-national index.ipynb', 'hw2-Daily Foreign Investor Buying Rank.ipynb', 'hw3.ipynb', 'hw6 rnn.ipynb', 'myCNNmodel.h5', 'new test.ipynb', 'news.ipynb', 'order.ipynb', 'pandas test.ipynb', 'sampleSubmission.csv', 'test', 'test1', 'train', 'train1', 'transfer-learning-hw.ipynb', 'Untitled Diagram (1).png', 'Untitled.ipynb', '問題回答.ipynb', '期末function api hw.ipynb']\n"
     ]
    }
   ],
   "source": [
    "print(os.listdir()) #確認我們目錄下的資料夾名稱"
   ]
  },
  {
   "cell_type": "markdown",
   "metadata": {},
   "source": [
    "### 導入Kaggle上下載的資料集，並整理資料"
   ]
  },
  {
   "cell_type": "code",
   "execution_count": 3,
   "metadata": {},
   "outputs": [],
   "source": [
    "x_train=[] #創建空的list\n",
    "y_train=[]\n",
    "path=os.path.join('train1') #在這裡令一個路徑，這樣要換資料夾時才不用去程式內部一個一個改\n",
    "\n",
    "for i in os.listdir(path):\n",
    "    name=i.split(\".\")[0]   #找出圖片以'.'為切割的名字開頭\n",
    "#     print(name)\n",
    "    if name==\"dog\":        #如果圖片名稱為dog開頭則 label=1，反之若是cat則 label=0\n",
    "        label=int(1)\n",
    "    else:\n",
    "        label=int(0)\n",
    "#     print(label)\n",
    "    img=cv2.imread(os.path.join(path,i))\n",
    "    img= cv2.cvtColor(img, cv2.COLOR_BGR2RGB)\n",
    "#     print(cv2.imread(os.path.join(path,i)))\n",
    "    nimg=cv2.resize(img,dsize=(150,150))    #將每個圖片大小調整成150X150\n",
    "    x_train.append(nimg) #將調整好的圖片加入list\n",
    "    y_train.append(label) #加入它們的label編號\n"
   ]
  },
  {
   "cell_type": "markdown",
   "metadata": {},
   "source": [
    "### 資料處理"
   ]
  },
  {
   "cell_type": "code",
   "execution_count": null,
   "metadata": {},
   "outputs": [],
   "source": [
    "x_train=np.array(x_train).reshape(-1,150,150,3) #重塑資料，用-1讓他自己去判斷個數\n",
    "x_train=x_train/255 #標準化"
   ]
  },
  {
   "cell_type": "code",
   "execution_count": null,
   "metadata": {},
   "outputs": [],
   "source": [
    "x_train.shape #25000筆,150x150的照片,灰階圖片所以1個Channel"
   ]
  },
  {
   "cell_type": "code",
   "execution_count": null,
   "metadata": {},
   "outputs": [],
   "source": [
    "x_train[5].shape"
   ]
  },
  {
   "cell_type": "code",
   "execution_count": null,
   "metadata": {},
   "outputs": [],
   "source": [
    "y_train= np.array(y_train) #將資料轉成array\n",
    "y_train[5] "
   ]
  },
  {
   "cell_type": "markdown",
   "metadata": {},
   "source": [
    "### 打造我們的CNN"
   ]
  },
  {
   "cell_type": "code",
   "execution_count": null,
   "metadata": {},
   "outputs": [],
   "source": [
    "#命名一個新模型\n",
    "model = Sequential() \n",
    "\n",
    "#第一層Filter用3x3的矩陣，數量為32，池化窗口為2x2，激活函數為relu\n",
    "model.add(Conv2D(32,(3,3),input_shape=(150,150,3),padding='same',activation ='relu'))\n",
    "model.add(MaxPooling2D(pool_size = (2,2)))\n",
    "\n",
    "#第二層Filter用3x3的矩陣，數量為64，池化窗口為2x2，激活函數為relu\n",
    "model.add(Conv2D(64,(3,3),padding='same',activation ='relu'))\n",
    "model.add(MaxPooling2D(pool_size = (2,2)))\n",
    "\n",
    "model.add(Flatten()) #拉平\n",
    "\n",
    "#第一層為64個神經元，激活函數為relu\n",
    "model.add(Dense(64, activation='relu'))\n",
    "\n",
    "#第二層為1個神經元，因為資料為二分類所以最後一層激活函數使用sigmoid\n",
    "model.add(Dense(1, activation='sigmoid'))\n"
   ]
  },
  {
   "cell_type": "markdown",
   "metadata": {},
   "source": [
    "### 檢視模型"
   ]
  },
  {
   "cell_type": "code",
   "execution_count": null,
   "metadata": {
    "scrolled": true
   },
   "outputs": [],
   "source": [
    "model.summary()"
   ]
  },
  {
   "cell_type": "markdown",
   "metadata": {},
   "source": [
    "### 在這裡我們optimizer總共試了3種，Adam為準確率最高的0.82"
   ]
  },
  {
   "cell_type": "markdown",
   "metadata": {},
   "source": [
    "### SGD(learning rate使用0.01) 準確率為0.6多"
   ]
  },
  {
   "cell_type": "markdown",
   "metadata": {},
   "source": [
    "### AdaGrad 準確率則為0.72上下"
   ]
  },
  {
   "cell_type": "code",
   "execution_count": null,
   "metadata": {},
   "outputs": [],
   "source": [
    "model.compile(optimizer='adam',loss='binary_crossentropy',metrics=['accuracy'])"
   ]
  },
  {
   "cell_type": "markdown",
   "metadata": {},
   "source": [
    "### 訓練資料，每100筆資料修正一次，跑5次"
   ]
  },
  {
   "cell_type": "code",
   "execution_count": null,
   "metadata": {
    "scrolled": true
   },
   "outputs": [],
   "source": [
    "model.fit(x_train,y_train, epochs=3, batch_size=500,validation_split = (1/6))"
   ]
  },
  {
   "cell_type": "markdown",
   "metadata": {},
   "source": [
    "### 準確率希望有8成，因此在多訓練1次"
   ]
  },
  {
   "cell_type": "code",
   "execution_count": null,
   "metadata": {},
   "outputs": [],
   "source": [
    "# model.fit(x_train,y_train, epochs=1, batch_size=100)"
   ]
  },
  {
   "cell_type": "code",
   "execution_count": null,
   "metadata": {},
   "outputs": [],
   "source": [
    "train_acc = model.history.history['accuracy']\n",
    "valid_acc = model.history.history['val_accuracy']\n",
    "plt.plot(train_acc , label='accuracy')\n",
    "plt.plot(valid_acc, label = 'val_accuracy')\n",
    "plt.xlabel('Epoch')\n",
    "plt.ylabel('Accuracy')\n",
    "plt.xlabel('Epoch')\n",
    "plt.ylabel('Accuracy')\n",
    "plt.ylim([0, 1])\n",
    "plt.legend(loc='lower right')\n"
   ]
  },
  {
   "cell_type": "code",
   "execution_count": null,
   "metadata": {},
   "outputs": [],
   "source": [
    "train_loss = model.history.history['loss']\n",
    "valid_loss = model.history.history['val_loss']\n",
    "plt.plot(train_loss, label='loss')\n",
    "plt.plot(valid_loss, label = 'val_loss')\n",
    "plt.xlabel('Epoch')\n",
    "plt.ylabel('loss')\n",
    "plt.ylim([0, 1])\n",
    "plt.legend(loc='upper right')"
   ]
  },
  {
   "cell_type": "markdown",
   "metadata": {},
   "source": [
    "### 導入測試資料並整理"
   ]
  },
  {
   "cell_type": "code",
   "execution_count": null,
   "metadata": {},
   "outputs": [],
   "source": [
    "x_test=[] #建立空的list\n",
    "path=os.path.join(\"test1\") #設定資料夾\n",
    "\n",
    "for i in os.listdir(path):\n",
    "    img=cv2.imread(os.path.join(path,i)) #使用灰階，並將圖片轉為array態\n",
    "    img= cv2.cvtColor(img, cv2.COLOR_BGR2RGB)\n",
    "    nimg=cv2.resize(img,dsize=(150,150)) #將圖片大小改為150x150\n",
    "    x_test.append(nimg) #加入圖片資料進list\n"
   ]
  },
  {
   "cell_type": "code",
   "execution_count": null,
   "metadata": {},
   "outputs": [],
   "source": [
    "x_test=np.array(x_test).reshape(-1,150,150,3) #重塑維度\n",
    "x_test=x_test/255 #標準化"
   ]
  },
  {
   "cell_type": "markdown",
   "metadata": {},
   "source": [
    "### 預測"
   ]
  },
  {
   "cell_type": "code",
   "execution_count": null,
   "metadata": {
    "scrolled": true
   },
   "outputs": [],
   "source": [
    "result = model.predict_classes(x_test)"
   ]
  },
  {
   "cell_type": "code",
   "execution_count": null,
   "metadata": {},
   "outputs": [],
   "source": [
    "def my_predict(n):\n",
    "    if result[n]==int(0):   #label=0 則為貓\n",
    "        a='貓'\n",
    "    else:\n",
    "        a='狗'              #label=1 則為狗\n",
    "    print('我可愛的 CNN 預測是', a)\n",
    "    X = x_test[n].reshape(150,150)\n",
    "    \n",
    "    plt.imshow(X)"
   ]
  },
  {
   "cell_type": "code",
   "execution_count": null,
   "metadata": {},
   "outputs": [],
   "source": [
    "my_predict(87)"
   ]
  },
  {
   "cell_type": "markdown",
   "metadata": {},
   "source": [
    "### BUTBUTBUT (心路歷程可跳過)"
   ]
  },
  {
   "cell_type": "markdown",
   "metadata": {},
   "source": [
    "#### 身為Python小白的我們四個發現一件事情"
   ]
  },
  {
   "cell_type": "markdown",
   "metadata": {},
   "source": [
    "#### 我們做的模型，少做一件事情，是在做資料學習時很重要的事"
   ]
  },
  {
   "cell_type": "markdown",
   "metadata": {},
   "source": [
    "#### 也就是打亂資料集"
   ]
  },
  {
   "cell_type": "markdown",
   "metadata": {},
   "source": [
    "#### 上網爬了很多文章發現如果沒有打亂資料集，有可能會影響模型的泛化能力"
   ]
  },
  {
   "cell_type": "markdown",
   "metadata": {},
   "source": [
    "#### 進而導致我們耳熟的overfitting狀況"
   ]
  },
  {
   "cell_type": "markdown",
   "metadata": {},
   "source": [
    "#### 於是乎在經過漫長的爬文時間後，終於看懂了怎麼打亂資料集"
   ]
  },
  {
   "cell_type": "markdown",
   "metadata": {},
   "source": [
    "#### 於是，再參考許多資料後發現了這篇，有一步步的教學，雖然下面幾乎看不懂，\n"
   ]
  },
  {
   "cell_type": "markdown",
   "metadata": {},
   "source": [
    "#### 但是這篇打亂的地方還是能勉強看懂的"
   ]
  },
  {
   "cell_type": "markdown",
   "metadata": {},
   "source": [
    "#### \"https://codertw.com/%E7%A8%8B%E5%BC%8F%E8%AA%9E%E8%A8%80/491275/#outline__1_2\""
   ]
  },
  {
   "cell_type": "markdown",
   "metadata": {},
   "source": [
    "#### 搭配著print學習法，不斷把資料print出來後我們終於知道要怎麼打亂資料集了"
   ]
  },
  {
   "cell_type": "markdown",
   "metadata": {},
   "source": [
    "# 模型二"
   ]
  },
  {
   "cell_type": "markdown",
   "metadata": {},
   "source": [
    "### 我們首先一樣導入train的資料，但因為要打亂\n"
   ]
  },
  {
   "cell_type": "markdown",
   "metadata": {},
   "source": [
    "### 我們模型一命名label的方式要做修改"
   ]
  },
  {
   "cell_type": "markdown",
   "metadata": {},
   "source": [
    "### 不然打亂的label沒辦法跟著它的圖片一致"
   ]
  },
  {
   "cell_type": "markdown",
   "metadata": {},
   "source": [
    "### 一樣將檔名為 cat 開頭為 label=0，dog 則 label=1"
   ]
  },
  {
   "cell_type": "code",
   "execution_count": null,
   "metadata": {},
   "outputs": [],
   "source": [
    "path='train1' #設定路徑\n",
    "cats =  [] #建立空list\n",
    "label_cats = []\n",
    "dogs = []\n",
    "label_dogs = []\n",
    "for file in os.listdir(path):\n",
    "    name = file.split(sep='.') #以.為分割\n",
    "    if name[0]=='cat':\n",
    "        cats.append(file) #將檔名加進list\n",
    "        label_cats.append(0) #貓的label=0\n",
    "    else:\n",
    "        dogs.append(file)\n",
    "        label_dogs.append(1) #狗的label=1\n",
    "\n"
   ]
  },
  {
   "cell_type": "markdown",
   "metadata": {},
   "source": [
    "### 檢視資料我們發現前面圖片均為貓，後面圖片均為狗"
   ]
  },
  {
   "cell_type": "code",
   "execution_count": null,
   "metadata": {},
   "outputs": [],
   "source": [
    "print(cats,label_cats)\n",
    "print(dogs,label_dogs)"
   ]
  },
  {
   "cell_type": "markdown",
   "metadata": {},
   "source": [
    "### 為了要解決這個問題我們決定將資料集順序打亂"
   ]
  },
  {
   "cell_type": "markdown",
   "metadata": {},
   "source": [
    "### 首先我們將前面貓與狗的list結合"
   ]
  },
  {
   "cell_type": "code",
   "execution_count": null,
   "metadata": {},
   "outputs": [],
   "source": [
    "image_list = np.hstack((cats, dogs))#將貓狗圖片堆積起來\n",
    "label_list = np.hstack((label_cats,label_dogs))#label也堆積起來"
   ]
  },
  {
   "cell_type": "code",
   "execution_count": null,
   "metadata": {
    "scrolled": true
   },
   "outputs": [],
   "source": [
    "print(image_list) #檢視\n",
    "print(label_list)"
   ]
  },
  {
   "cell_type": "markdown",
   "metadata": {},
   "source": [
    "### 結合後轉為array，並將其轉置"
   ]
  },
  {
   "cell_type": "code",
   "execution_count": null,
   "metadata": {},
   "outputs": [],
   "source": [
    "temp = np.array([image_list,label_list])"
   ]
  },
  {
   "cell_type": "code",
   "execution_count": null,
   "metadata": {
    "scrolled": true
   },
   "outputs": [],
   "source": [
    "print(temp)#檢視"
   ]
  },
  {
   "cell_type": "code",
   "execution_count": null,
   "metadata": {},
   "outputs": [],
   "source": [
    "temp = temp.transpose()#轉置矩陣"
   ]
  },
  {
   "cell_type": "code",
   "execution_count": null,
   "metadata": {},
   "outputs": [],
   "source": [
    "print(temp)#檢視轉置後結果"
   ]
  },
  {
   "cell_type": "markdown",
   "metadata": {},
   "source": [
    "### 接下來使用shuffle打亂順序"
   ]
  },
  {
   "cell_type": "code",
   "execution_count": null,
   "metadata": {},
   "outputs": [],
   "source": [
    "np.random.shuffle(temp)#打亂矩陣順序"
   ]
  },
  {
   "cell_type": "code",
   "execution_count": null,
   "metadata": {},
   "outputs": [],
   "source": [
    "print(temp)#檢視"
   ]
  },
  {
   "cell_type": "markdown",
   "metadata": {},
   "source": [
    "### 再將打亂後的資料提取出"
   ]
  },
  {
   "cell_type": "code",
   "execution_count": null,
   "metadata": {},
   "outputs": [],
   "source": [
    "image_list = list(temp[:,0])#提取矩陣第一行"
   ]
  },
  {
   "cell_type": "code",
   "execution_count": null,
   "metadata": {},
   "outputs": [],
   "source": [
    "print(image_list)#檢視"
   ]
  },
  {
   "cell_type": "code",
   "execution_count": null,
   "metadata": {},
   "outputs": [],
   "source": [
    "label_list = list(temp[:,1])#提取矩陣第二行"
   ]
  },
  {
   "cell_type": "code",
   "execution_count": null,
   "metadata": {
    "scrolled": true
   },
   "outputs": [],
   "source": [
    "print(label_list)#檢視"
   ]
  },
  {
   "cell_type": "code",
   "execution_count": null,
   "metadata": {},
   "outputs": [],
   "source": [
    "label_list = [int(i) for i in label_list]#將文字轉成數字"
   ]
  },
  {
   "cell_type": "code",
   "execution_count": null,
   "metadata": {},
   "outputs": [],
   "source": [
    "print(label_list)#檢視"
   ]
  },
  {
   "cell_type": "markdown",
   "metadata": {},
   "source": [
    "### 成功提取資料後，我們看到資料已經被打亂"
   ]
  },
  {
   "cell_type": "markdown",
   "metadata": {},
   "source": [
    "### 因此利用opencv修改圖片大小為150x150，並將其轉成array"
   ]
  },
  {
   "cell_type": "code",
   "execution_count": null,
   "metadata": {},
   "outputs": [],
   "source": [
    "x_train=[] #建立空的list\n",
    "y_train=label_list \n",
    "path=os.path.join('train1') #設定路徑\n",
    "for j in image_list:\n",
    "    img=cv2.imread(os.path.join(path,j))\n",
    "    img= cv2.cvtColor(img, cv2.COLOR_BGR2RGB)\n",
    "    nimg=cv2.resize(img,dsize=(150,150)) #修改大小\n",
    "    x_train.append(nimg) #加入array型態的圖片資料"
   ]
  },
  {
   "cell_type": "code",
   "execution_count": null,
   "metadata": {
    "scrolled": true
   },
   "outputs": [],
   "source": [
    "# print(x_train)#檢視"
   ]
  },
  {
   "cell_type": "code",
   "execution_count": null,
   "metadata": {},
   "outputs": [],
   "source": [
    "# print(y_train)#檢視"
   ]
  },
  {
   "cell_type": "markdown",
   "metadata": {},
   "source": [
    "### 重塑資料將其轉成我們要的"
   ]
  },
  {
   "cell_type": "code",
   "execution_count": null,
   "metadata": {},
   "outputs": [],
   "source": [
    "x_train=np.array(x_train).reshape(-1,150,150,3) #轉換資料\n",
    "x_train=x_train/255 #標準化"
   ]
  },
  {
   "cell_type": "code",
   "execution_count": null,
   "metadata": {},
   "outputs": [],
   "source": [
    "x_train.shape #25000筆,150x150的照片,1個Channel灰階"
   ]
  },
  {
   "cell_type": "code",
   "execution_count": null,
   "metadata": {},
   "outputs": [],
   "source": [
    "x_train[5].shape #確認資料格式"
   ]
  },
  {
   "cell_type": "code",
   "execution_count": null,
   "metadata": {},
   "outputs": [],
   "source": [
    "print(x_train)#檢視"
   ]
  },
  {
   "cell_type": "code",
   "execution_count": null,
   "metadata": {},
   "outputs": [],
   "source": [
    "y_train= np.array(y_train) #將list轉成array,並確認資料格式\n",
    "y_train[5]"
   ]
  },
  {
   "cell_type": "code",
   "execution_count": null,
   "metadata": {},
   "outputs": [],
   "source": [
    "print(y_train)#檢視"
   ]
  },
  {
   "cell_type": "markdown",
   "metadata": {},
   "source": [
    "### 資料處理完畢後"
   ]
  },
  {
   "cell_type": "markdown",
   "metadata": {},
   "source": [
    "### 套用我們第一次使用的模型"
   ]
  },
  {
   "cell_type": "code",
   "execution_count": null,
   "metadata": {},
   "outputs": [],
   "source": [
    "#命名一個新模型\n",
    "model = Sequential() \n",
    "\n",
    "#第一層Filter用3x3的矩陣，數量為32，池化窗口為2x2，激活函數為relu\n",
    "model.add(Conv2D(32,(3,3),input_shape=(150,150,3),padding='same',activation ='relu'))\n",
    "model.add(MaxPooling2D(pool_size = (2,2)))\n",
    "\n",
    "#第二層Filter用3x3的矩陣，數量為64，池化窗口為2x2，激活函數為relu\n",
    "model.add(Conv2D(64,(3,3),padding='same',activation ='relu'))\n",
    "model.add(MaxPooling2D(pool_size = (2,2)))\n",
    "\n",
    "model.add(Flatten()) #拉平\n",
    "\n",
    "#第一層為64個神經元，激活函數為relu\n",
    "model.add(Dense(64, activation='relu'))\n",
    "\n",
    "#第二層為1個神經元，因為資料為二分類所以最後一層激活函數使用sigmoid\n",
    "model.add(Dense(1, activation='sigmoid'))\n"
   ]
  },
  {
   "cell_type": "markdown",
   "metadata": {},
   "source": [
    "### 檢視模型"
   ]
  },
  {
   "cell_type": "code",
   "execution_count": null,
   "metadata": {},
   "outputs": [],
   "source": [
    "model.summary()"
   ]
  },
  {
   "cell_type": "markdown",
   "metadata": {},
   "source": [
    "### compile模型"
   ]
  },
  {
   "cell_type": "code",
   "execution_count": null,
   "metadata": {},
   "outputs": [],
   "source": [
    "model.compile(optimizer='adam',loss='binary_crossentropy',metrics=['accuracy'])"
   ]
  },
  {
   "cell_type": "markdown",
   "metadata": {},
   "source": [
    "### 訓練模型，模型一訓練4次準確率0.82，模型二打亂後準確率提高"
   ]
  },
  {
   "cell_type": "code",
   "execution_count": null,
   "metadata": {
    "scrolled": false
   },
   "outputs": [],
   "source": [
    "model.fit(x_train,y_train, epochs=5, batch_size=100,validation_split = (1/6))"
   ]
  },
  {
   "cell_type": "code",
   "execution_count": null,
   "metadata": {},
   "outputs": [],
   "source": [
    "train_acc = model.history.history['accuracy']\n",
    "valid_acc = model.history.history['val_accuracy']\n",
    "plt.plot(train_acc , label='train_acc')\n",
    "plt.plot(valid_acc, label = 'valid_acc')\n",
    "plt.xlabel('Epoch')\n",
    "plt.ylabel('Accuracy')\n",
    "plt.xlabel('Epoch')\n",
    "plt.ylabel('Accuracy')\n",
    "plt.ylim([0, 1])\n",
    "plt.legend(loc='lower right')"
   ]
  },
  {
   "cell_type": "code",
   "execution_count": null,
   "metadata": {},
   "outputs": [],
   "source": [
    "train_loss = model.history.history['loss']\n",
    "valid_loss = model.history.history['val_loss']\n",
    "plt.plot(train_loss, label='train_loss')\n",
    "plt.plot(valid_loss, label = 'valid_loss')\n",
    "plt.xlabel('Epoch')\n",
    "plt.ylabel('loss')\n",
    "plt.ylim([0, 1])\n",
    "plt.legend(loc='upper right')"
   ]
  },
  {
   "cell_type": "markdown",
   "metadata": {},
   "source": [
    "### 導入我們的測試資料並整理"
   ]
  },
  {
   "cell_type": "code",
   "execution_count": null,
   "metadata": {
    "scrolled": true
   },
   "outputs": [],
   "source": [
    "x_test=[] #建立空的list\n",
    "path=os.path.join(\"test1\") #設定資料夾\n",
    "\n",
    "for i in os.listdir(path):\n",
    "    img=cv2.imread(os.path.join(path,i)) #使用灰階，並將圖片轉為array態\n",
    "    img= cv2.cvtColor(img, cv2.COLOR_BGR2RGB)\n",
    "    nimg=cv2.resize(img,dsize=(150,150)) #將圖片大小改為150x150\n",
    "    x_test.append(nimg) #加入圖片資料進list\n"
   ]
  },
  {
   "cell_type": "code",
   "execution_count": null,
   "metadata": {},
   "outputs": [],
   "source": [
    "x_test=np.array(x_test).reshape(-1,150,150,3) #重塑資料\n",
    "x_test=x_test/255 #標準化"
   ]
  },
  {
   "cell_type": "markdown",
   "metadata": {},
   "source": [
    "### 預測"
   ]
  },
  {
   "cell_type": "code",
   "execution_count": null,
   "metadata": {},
   "outputs": [],
   "source": [
    "result = model.predict_classes(x_test)"
   ]
  },
  {
   "cell_type": "code",
   "execution_count": null,
   "metadata": {},
   "outputs": [],
   "source": [
    "def my_predict(n):\n",
    "    if result[n]==int(0):\n",
    "        a='貓'\n",
    "    else:\n",
    "        a='狗'\n",
    "    print('我可愛的 CNN 預測是', a)\n",
    "    X = x_test[n].reshape(150,150,3)\n",
    "    plt.imshow(X)"
   ]
  },
  {
   "cell_type": "code",
   "execution_count": null,
   "metadata": {},
   "outputs": [],
   "source": [
    "my_predict(1)"
   ]
  },
  {
   "cell_type": "code",
   "execution_count": null,
   "metadata": {},
   "outputs": [],
   "source": []
  },
  {
   "cell_type": "code",
   "execution_count": null,
   "metadata": {},
   "outputs": [],
   "source": []
  },
  {
   "cell_type": "code",
   "execution_count": null,
   "metadata": {},
   "outputs": [],
   "source": []
  }
 ],
 "metadata": {
  "kernelspec": {
   "display_name": "Python 3",
   "language": "python",
   "name": "python3"
  },
  "language_info": {
   "codemirror_mode": {
    "name": "ipython",
    "version": 3
   },
   "file_extension": ".py",
   "mimetype": "text/x-python",
   "name": "python",
   "nbconvert_exporter": "python",
   "pygments_lexer": "ipython3",
   "version": "3.7.4"
  }
 },
 "nbformat": 4,
 "nbformat_minor": 2
}
