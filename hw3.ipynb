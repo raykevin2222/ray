{
 "cells": [
  {
   "cell_type": "code",
   "execution_count": 6,
   "metadata": {},
   "outputs": [],
   "source": [
    "import requests as re\n",
    "from pyquery import PyQuery as pq\n",
    "import time"
   ]
  },
  {
   "cell_type": "code",
   "execution_count": 7,
   "metadata": {},
   "outputs": [],
   "source": [
    "url='https://www.cnyes.com/twstock/a_QFII9.aspx'\n",
    "res=re.get(url)\n",
    "doc=pq(res.text)"
   ]
  },
  {
   "cell_type": "code",
   "execution_count": 8,
   "metadata": {},
   "outputs": [
    {
     "name": "stdout",
     "output_type": "stream",
     "text": [
      "['00632R\\n元大台灣50反1\\n78467\\n1313485\\n18.66', '2888\\n新光金\\n17404\\n2739018\\n21.03', '2409\\n友達\\n15687\\n2650102\\n27.53', '1605\\n華新\\n11837\\n726083\\n21.83', '2330\\n台積電\\n11671\\n19648760\\n75.77', '2891\\n中信金\\n10296\\n7376749\\n37.83', '00637L\\n元大滬深300正2\\n9974\\n44401\\n3.86', '2883\\n開發金\\n6982\\n3720320\\n24.85', '2002\\n中鋼\\n6723\\n2994582\\n19.03', '2887\\n台新金\\n6662\\n2805649\\n26.31', '00677U\\n富邦VIX\\n6485\\n139144\\n5.14', '5880\\n合庫金\\n6396\\n2504441\\n19.34', '2881\\n富邦金\\n6358\\n2667374\\n26.06', '2882\\n國泰金\\n6345\\n2844883\\n21.60', '2324\\n仁寶\\n5253\\n2146006\\n48.69', '3231\\n緯創\\n4934\\n1573435\\n55.39', '1303\\n南亞\\n4738\\n2377539\\n29.97', '0050\\n元大台灣50\\n4238\\n120643\\n11.78', '9904\\n寶成\\n3813\\n1603466\\n54.41', '1402\\n遠東新\\n3741\\n929066\\n17.35', '2317\\n鴻海\\n3589\\n6064243\\n43.74', '2892\\n第一金\\n3504\\n3146981\\n25.25', '2308\\n台達電\\n3307\\n1693210\\n65.18', '2809\\n京城銀\\n3220\\n181478\\n16.18', '2886\\n兆豐金\\n3192\\n3197078\\n23.50', '2610\\n華航\\n3046\\n747410\\n13.78', '2633\\n台灣高鐵\\n3007\\n798407\\n14.18', '2344\\n華邦電\\n2952\\n771380\\n19.38', '2356\\n英業達\\n2808\\n1015065\\n28.29', '2313\\n華通\\n2711\\n238311\\n19.99']\n"
     ]
    }
   ],
   "source": [
    "list=[]\n",
    "for i in range(31):\n",
    "    for eachdoc in doc('#ctl00_ContentPlaceHolder1_UpdatePanel1> div.mbx.screenBx > div > table.fLtBx > tbody > tr:nth-child({})'.format(i)).items():\n",
    "        list.append(eachdoc.text())\n",
    "print(list)"
   ]
  },
  {
   "cell_type": "code",
   "execution_count": 9,
   "metadata": {},
   "outputs": [
    {
     "name": "stdout",
     "output_type": "stream",
     "text": [
      "[{'代號': '00632R', '名稱': '元大台灣50反1', '買超張數': '78467', '持股率%': '18.66'}, {'代號': '2888', '名稱': '新光金', '買超張數': '17404', '持股率%': '21.03'}, {'代號': '2409', '名稱': '友達', '買超張數': '15687', '持股率%': '27.53'}, {'代號': '1605', '名稱': '華新', '買超張數': '11837', '持股率%': '21.83'}, {'代號': '2330', '名稱': '台積電', '買超張數': '11671', '持股率%': '75.77'}, {'代號': '2891', '名稱': '中信金', '買超張數': '10296', '持股率%': '37.83'}, {'代號': '00637L', '名稱': '元大滬深300正2', '買超張數': '9974', '持股率%': '3.86'}, {'代號': '2883', '名稱': '開發金', '買超張數': '6982', '持股率%': '24.85'}, {'代號': '2002', '名稱': '中鋼', '買超張數': '6723', '持股率%': '19.03'}, {'代號': '2887', '名稱': '台新金', '買超張數': '6662', '持股率%': '26.31'}, {'代號': '00677U', '名稱': '富邦VIX', '買超張數': '6485', '持股率%': '5.14'}, {'代號': '5880', '名稱': '合庫金', '買超張數': '6396', '持股率%': '19.34'}, {'代號': '2881', '名稱': '富邦金', '買超張數': '6358', '持股率%': '26.06'}, {'代號': '2882', '名稱': '國泰金', '買超張數': '6345', '持股率%': '21.60'}, {'代號': '2324', '名稱': '仁寶', '買超張數': '5253', '持股率%': '48.69'}, {'代號': '3231', '名稱': '緯創', '買超張數': '4934', '持股率%': '55.39'}, {'代號': '1303', '名稱': '南亞', '買超張數': '4738', '持股率%': '29.97'}, {'代號': '0050', '名稱': '元大台灣50', '買超張數': '4238', '持股率%': '11.78'}, {'代號': '9904', '名稱': '寶成', '買超張數': '3813', '持股率%': '54.41'}, {'代號': '1402', '名稱': '遠東新', '買超張數': '3741', '持股率%': '17.35'}, {'代號': '2317', '名稱': '鴻海', '買超張數': '3589', '持股率%': '43.74'}, {'代號': '2892', '名稱': '第一金', '買超張數': '3504', '持股率%': '25.25'}, {'代號': '2308', '名稱': '台達電', '買超張數': '3307', '持股率%': '65.18'}, {'代號': '2809', '名稱': '京城銀', '買超張數': '3220', '持股率%': '16.18'}, {'代號': '2886', '名稱': '兆豐金', '買超張數': '3192', '持股率%': '23.50'}, {'代號': '2610', '名稱': '華航', '買超張數': '3046', '持股率%': '13.78'}, {'代號': '2633', '名稱': '台灣高鐵', '買超張數': '3007', '持股率%': '14.18'}, {'代號': '2344', '名稱': '華邦電', '買超張數': '2952', '持股率%': '19.38'}, {'代號': '2356', '名稱': '英業達', '買超張數': '2808', '持股率%': '28.29'}, {'代號': '2313', '名稱': '華通', '買超張數': '2711', '持股率%': '19.99'}]\n"
     ]
    }
   ],
   "source": [
    "list_buy=[]\n",
    "for i in range(31):\n",
    "    for eachdoc in doc('#ctl00_ContentPlaceHolder1_UpdatePanel1> div.mbx.screenBx > div > table.fLtBx > tbody > tr:nth-child({})'.format(i)).items():\n",
    "        dict={}\n",
    "        dict[\"代號\"]=eachdoc('td:nth-child(1) > a').text()\n",
    "        dict[\"名稱\"]=eachdoc('td:nth-child(2) > a').text()\n",
    "        dict[\"買超張數\"]=eachdoc('td:nth-child(3)').text()\n",
    "        dict[\"持股率%\"]=eachdoc('td:nth-child(5)').text()\n",
    "        list_buy.append(dict)\n",
    "print(list_buy)"
   ]
  },
  {
   "cell_type": "code",
   "execution_count": 10,
   "metadata": {},
   "outputs": [
    {
     "data": {
      "text/plain": [
       "'元大台灣50反1 新光金 友達 華新 台積電 中信金 元大滬深300正2 開發金 中鋼 台新金 富邦VIX 合庫金 富邦金 國泰金 仁寶 緯創 南亞 元大台灣50 寶成 遠東新 鴻海 第一金 台達電 京城銀 兆豐金 華航 台灣高鐵 華邦電 英業達 華通'"
      ]
     },
     "execution_count": 10,
     "metadata": {},
     "output_type": "execute_result"
    }
   ],
   "source": [
    "doc('#ctl00_ContentPlaceHolder1_UpdatePanel1 > div.mbx.screenBx > div > table.fLtBx > tbody > tr td:nth-child(2) > a').text()"
   ]
  },
  {
   "cell_type": "code",
   "execution_count": null,
   "metadata": {},
   "outputs": [],
   "source": []
  },
  {
   "cell_type": "code",
   "execution_count": null,
   "metadata": {},
   "outputs": [],
   "source": []
  },
  {
   "cell_type": "code",
   "execution_count": null,
   "metadata": {},
   "outputs": [],
   "source": []
  },
  {
   "cell_type": "code",
   "execution_count": null,
   "metadata": {},
   "outputs": [],
   "source": []
  }
 ],
 "metadata": {
  "kernelspec": {
   "display_name": "Python 3",
   "language": "python",
   "name": "python3"
  },
  "language_info": {
   "codemirror_mode": {
    "name": "ipython",
    "version": 3
   },
   "file_extension": ".py",
   "mimetype": "text/x-python",
   "name": "python",
   "nbconvert_exporter": "python",
   "pygments_lexer": "ipython3",
   "version": "3.7.4"
  }
 },
 "nbformat": 4,
 "nbformat_minor": 2
}
