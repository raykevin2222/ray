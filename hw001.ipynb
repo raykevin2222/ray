{
 "cells": [
  {
   "cell_type": "markdown",
   "metadata": {},
   "source": [
    "#### 猜拳"
   ]
  },
  {
   "cell_type": "code",
   "execution_count": 1,
   "metadata": {},
   "outputs": [],
   "source": [
    "import random as rd"
   ]
  },
  {
   "cell_type": "code",
   "execution_count": 10,
   "metadata": {},
   "outputs": [
    {
     "name": "stdout",
     "output_type": "stream",
     "text": [
      "輸入:1剪刀 2石頭 3布 \n",
      "2\n",
      "平手\n"
     ]
    }
   ],
   "source": [
    "a=input(\"輸入:1剪刀 2石頭 3布 \\n\")\n",
    "a=int(a)\n",
    "b=rd.randint(1,3)\n",
    "#剪刀 石頭 布\n",
    "if (a==1 and b==3) or (a==2 and b==1) or (a==3 and b==2):\n",
    "    print(\"獲勝\")\n",
    "elif a==b :\n",
    "    print(\"平手\")\n",
    "else:\n",
    "    print(\"你輸了\")"
   ]
  },
  {
   "cell_type": "code",
   "execution_count": null,
   "metadata": {},
   "outputs": [],
   "source": []
  }
 ],
 "metadata": {
  "kernelspec": {
   "display_name": "Python 3",
   "language": "python",
   "name": "python3"
  },
  "language_info": {
   "codemirror_mode": {
    "name": "ipython",
    "version": 3
   },
   "file_extension": ".py",
   "mimetype": "text/x-python",
   "name": "python",
   "nbconvert_exporter": "python",
   "pygments_lexer": "ipython3",
   "version": "3.7.4"
  }
 },
 "nbformat": 4,
 "nbformat_minor": 2
}
