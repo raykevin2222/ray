{
 "cells": [
  {
   "cell_type": "code",
   "execution_count": 1,
   "metadata": {},
   "outputs": [],
   "source": [
    "%matplotlib inline\n",
    "\n",
    "import numpy as np\n",
    "import matplotlib.pyplot as plt\n",
    "import pandas as pd\n",
    "import tensorflow as tf\n",
    "from tensorflow.keras.models import Sequential\n",
    "from tensorflow.keras.layers import Conv2D, MaxPooling2D\n",
    "from tensorflow.keras.layers import Dense, Flatten\n",
    "from tensorflow.keras.optimizers import SGD\n",
    "import os\n",
    "import cv2\n",
    "import random"
   ]
  },
  {
   "cell_type": "code",
   "execution_count": 2,
   "metadata": {
    "scrolled": true
   },
   "outputs": [
    {
     "name": "stdout",
     "output_type": "stream",
     "text": [
      "['.git', '.ipynb_checkpoints', 'CNN_Dog_vs_Cat 2 (Best).ipynb', 'dogs-vs-cats.zip', 'homework5.ipynb', 'hw04.ipynb', 'hw1-national index.ipynb', 'hw2-Daily Foreign Investor Buying Rank.ipynb', 'hw3.ipynb', 'hw6 rnn.ipynb', 'myCNNmodel.h5', 'new test.ipynb', 'news.ipynb', 'order.ipynb', 'pandas test.ipynb', 'train']\n"
     ]
    }
   ],
   "source": [
    "print(os.listdir()) #確認我們目錄下的資料夾名稱"
   ]
  },
  {
   "cell_type": "code",
   "execution_count": 3,
   "metadata": {},
   "outputs": [],
   "source": [
    "#導入Kaggle上下載的資料集，並整理資料"
   ]
  },
  {
   "cell_type": "code",
   "execution_count": 4,
   "metadata": {},
   "outputs": [],
   "source": [
    "x_train=[]\n",
    "y_train=[]\n",
    "path=os.path.join('train')\n",
    "\n",
    "for i in os.listdir(path):\n",
    "    name=i.split(\".\")[0]   #找出圖片以'.'為切割的名字開頭\n",
    "#     print(name)\n",
    "    if name==\"dog\":        #如果圖片名稱為dog開頭則 label=1，反之若是cat則 label=0\n",
    "        label=int(1)\n",
    "    else:\n",
    "        label=int(0)\n",
    "#     print(label)\n",
    "    img=cv2.imread(os.path.join(path,i),cv2.IMREAD_GRAYSCALE)     #我們使用灰階。試過彩色的，但這樣不知道為什麼圖片做出來會失真\n",
    "#     print(cv2.imread(os.path.join(path,i)))\n",
    "    nimg=cv2.resize(img,dsize=(150,150))    #將每個圖片大小調整成150X150\n",
    "    x_train.append(nimg)\n",
    "    y_train.append(label)\n"
   ]
  },
  {
   "cell_type": "code",
   "execution_count": 5,
   "metadata": {},
   "outputs": [],
   "source": [
    "#資料處理"
   ]
  },
  {
   "cell_type": "code",
   "execution_count": 7,
   "metadata": {
    "scrolled": true
   },
   "outputs": [],
   "source": [
    "# print(x_train)"
   ]
  },
  {
   "cell_type": "code",
   "execution_count": 6,
   "metadata": {},
   "outputs": [],
   "source": [
    "x_train=np.array(x_train).reshape(-1,150,150,1)\n",
    "x_train=x_train/255"
   ]
  },
  {
   "cell_type": "code",
   "execution_count": 7,
   "metadata": {},
   "outputs": [
    {
     "data": {
      "text/plain": [
       "(8, 150, 150, 1)"
      ]
     },
     "execution_count": 7,
     "metadata": {},
     "output_type": "execute_result"
    }
   ],
   "source": [
    "x_train.shape #25000筆,150x150的照片,1個Channel灰階"
   ]
  },
  {
   "cell_type": "code",
   "execution_count": 8,
   "metadata": {},
   "outputs": [
    {
     "data": {
      "text/plain": [
       "(150, 150, 1)"
      ]
     },
     "execution_count": 8,
     "metadata": {},
     "output_type": "execute_result"
    }
   ],
   "source": [
    "x_train[5].shape"
   ]
  },
  {
   "cell_type": "code",
   "execution_count": 9,
   "metadata": {},
   "outputs": [
    {
     "data": {
      "text/plain": [
       "1"
      ]
     },
     "execution_count": 9,
     "metadata": {},
     "output_type": "execute_result"
    }
   ],
   "source": [
    "y_train= np.array(y_train)\n",
    "y_train[5]"
   ]
  },
  {
   "cell_type": "code",
   "execution_count": 16,
   "metadata": {
    "scrolled": true
   },
   "outputs": [
    {
     "name": "stdout",
     "output_type": "stream",
     "text": [
      "8 8\n"
     ]
    }
   ],
   "source": [
    "print(len(y_train),len(x_train))"
   ]
  },
  {
   "cell_type": "code",
   "execution_count": 19,
   "metadata": {
    "scrolled": true
   },
   "outputs": [
    {
     "name": "stdout",
     "output_type": "stream",
     "text": [
      "[[[[0.14509804]\n",
      "   [0.15686275]\n",
      "   [0.16862745]\n",
      "   ...\n",
      "   [0.10980392]\n",
      "   [0.10588235]\n",
      "   [0.10196078]]\n",
      "\n",
      "  [[0.16470588]\n",
      "   [0.18039216]\n",
      "   [0.19215686]\n",
      "   ...\n",
      "   [0.10980392]\n",
      "   [0.10588235]\n",
      "   [0.10588235]]\n",
      "\n",
      "  [[0.18039216]\n",
      "   [0.19215686]\n",
      "   [0.2       ]\n",
      "   ...\n",
      "   [0.11372549]\n",
      "   [0.10588235]\n",
      "   [0.10980392]]\n",
      "\n",
      "  ...\n",
      "\n",
      "  [[0.28627451]\n",
      "   [0.30980392]\n",
      "   [0.31764706]\n",
      "   ...\n",
      "   [0.27843137]\n",
      "   [0.27058824]\n",
      "   [0.27843137]]\n",
      "\n",
      "  [[0.29803922]\n",
      "   [0.30980392]\n",
      "   [0.30588235]\n",
      "   ...\n",
      "   [0.27843137]\n",
      "   [0.29019608]\n",
      "   [0.27843137]]\n",
      "\n",
      "  [[0.29803922]\n",
      "   [0.30588235]\n",
      "   [0.30588235]\n",
      "   ...\n",
      "   [0.27843137]\n",
      "   [0.2745098 ]\n",
      "   [0.2745098 ]]]\n",
      "\n",
      "\n",
      " [[[0.17254902]\n",
      "   [0.17647059]\n",
      "   [0.17254902]\n",
      "   ...\n",
      "   [0.00784314]\n",
      "   [0.01568627]\n",
      "   [0.01568627]]\n",
      "\n",
      "  [[0.16862745]\n",
      "   [0.17647059]\n",
      "   [0.18823529]\n",
      "   ...\n",
      "   [0.01568627]\n",
      "   [0.01568627]\n",
      "   [0.01568627]]\n",
      "\n",
      "  [[0.16470588]\n",
      "   [0.17647059]\n",
      "   [0.18823529]\n",
      "   ...\n",
      "   [0.01568627]\n",
      "   [0.01568627]\n",
      "   [0.01568627]]\n",
      "\n",
      "  ...\n",
      "\n",
      "  [[0.57254902]\n",
      "   [0.57647059]\n",
      "   [0.57647059]\n",
      "   ...\n",
      "   [0.37647059]\n",
      "   [0.35294118]\n",
      "   [0.32156863]]\n",
      "\n",
      "  [[0.56470588]\n",
      "   [0.56862745]\n",
      "   [0.56470588]\n",
      "   ...\n",
      "   [0.36470588]\n",
      "   [0.35294118]\n",
      "   [0.32156863]]\n",
      "\n",
      "  [[0.54509804]\n",
      "   [0.56470588]\n",
      "   [0.56470588]\n",
      "   ...\n",
      "   [0.36078431]\n",
      "   [0.34509804]\n",
      "   [0.31764706]]]\n",
      "\n",
      "\n",
      " [[[0.24313725]\n",
      "   [0.23137255]\n",
      "   [0.19607843]\n",
      "   ...\n",
      "   [0.02745098]\n",
      "   [0.02745098]\n",
      "   [0.02745098]]\n",
      "\n",
      "  [[0.22745098]\n",
      "   [0.24313725]\n",
      "   [0.21960784]\n",
      "   ...\n",
      "   [0.02745098]\n",
      "   [0.02745098]\n",
      "   [0.02745098]]\n",
      "\n",
      "  [[0.23137255]\n",
      "   [0.25490196]\n",
      "   [0.25098039]\n",
      "   ...\n",
      "   [0.02745098]\n",
      "   [0.02745098]\n",
      "   [0.02745098]]\n",
      "\n",
      "  ...\n",
      "\n",
      "  [[0.22352941]\n",
      "   [0.20784314]\n",
      "   [0.2627451 ]\n",
      "   ...\n",
      "   [0.94117647]\n",
      "   [0.91764706]\n",
      "   [0.91764706]]\n",
      "\n",
      "  [[0.22745098]\n",
      "   [0.20784314]\n",
      "   [0.23921569]\n",
      "   ...\n",
      "   [0.9372549 ]\n",
      "   [0.92941176]\n",
      "   [0.92941176]]\n",
      "\n",
      "  [[0.23137255]\n",
      "   [0.2       ]\n",
      "   [0.22745098]\n",
      "   ...\n",
      "   [0.92941176]\n",
      "   [0.93333333]\n",
      "   [0.93333333]]]\n",
      "\n",
      "\n",
      " ...\n",
      "\n",
      "\n",
      " [[[0.21176471]\n",
      "   [0.21176471]\n",
      "   [0.22352941]\n",
      "   ...\n",
      "   [0.42745098]\n",
      "   [0.42352941]\n",
      "   [0.41568627]]\n",
      "\n",
      "  [[0.21568627]\n",
      "   [0.21568627]\n",
      "   [0.22745098]\n",
      "   ...\n",
      "   [0.48235294]\n",
      "   [0.47843137]\n",
      "   [0.47058824]]\n",
      "\n",
      "  [[0.21568627]\n",
      "   [0.21960784]\n",
      "   [0.23921569]\n",
      "   ...\n",
      "   [0.53333333]\n",
      "   [0.52156863]\n",
      "   [0.51372549]]\n",
      "\n",
      "  ...\n",
      "\n",
      "  [[0.90196078]\n",
      "   [0.84705882]\n",
      "   [0.8627451 ]\n",
      "   ...\n",
      "   [0.48235294]\n",
      "   [0.4745098 ]\n",
      "   [0.4627451 ]]\n",
      "\n",
      "  [[0.87058824]\n",
      "   [0.8627451 ]\n",
      "   [0.90588235]\n",
      "   ...\n",
      "   [0.48235294]\n",
      "   [0.4627451 ]\n",
      "   [0.44313725]]\n",
      "\n",
      "  [[0.87058824]\n",
      "   [0.87058824]\n",
      "   [0.83137255]\n",
      "   ...\n",
      "   [0.4745098 ]\n",
      "   [0.45490196]\n",
      "   [0.42745098]]]\n",
      "\n",
      "\n",
      " [[[0.74509804]\n",
      "   [0.74509804]\n",
      "   [0.75294118]\n",
      "   ...\n",
      "   [0.51372549]\n",
      "   [0.50196078]\n",
      "   [0.49803922]]\n",
      "\n",
      "  [[0.75294118]\n",
      "   [0.75686275]\n",
      "   [0.77254902]\n",
      "   ...\n",
      "   [0.51764706]\n",
      "   [0.51764706]\n",
      "   [0.50980392]]\n",
      "\n",
      "  [[0.75686275]\n",
      "   [0.76470588]\n",
      "   [0.77254902]\n",
      "   ...\n",
      "   [0.52156863]\n",
      "   [0.52156863]\n",
      "   [0.51764706]]\n",
      "\n",
      "  ...\n",
      "\n",
      "  [[0.15294118]\n",
      "   [0.15686275]\n",
      "   [0.16078431]\n",
      "   ...\n",
      "   [0.56078431]\n",
      "   [0.56470588]\n",
      "   [0.56470588]]\n",
      "\n",
      "  [[0.15686275]\n",
      "   [0.15686275]\n",
      "   [0.16470588]\n",
      "   ...\n",
      "   [0.56470588]\n",
      "   [0.56470588]\n",
      "   [0.56862745]]\n",
      "\n",
      "  [[0.15294118]\n",
      "   [0.15294118]\n",
      "   [0.16078431]\n",
      "   ...\n",
      "   [0.56470588]\n",
      "   [0.56470588]\n",
      "   [0.57254902]]]\n",
      "\n",
      "\n",
      " [[[0.5254902 ]\n",
      "   [0.5254902 ]\n",
      "   [0.5254902 ]\n",
      "   ...\n",
      "   [0.5254902 ]\n",
      "   [0.5254902 ]\n",
      "   [0.5254902 ]]\n",
      "\n",
      "  [[0.5254902 ]\n",
      "   [0.5254902 ]\n",
      "   [0.5254902 ]\n",
      "   ...\n",
      "   [0.5254902 ]\n",
      "   [0.5254902 ]\n",
      "   [0.5254902 ]]\n",
      "\n",
      "  [[0.5254902 ]\n",
      "   [0.5254902 ]\n",
      "   [0.5254902 ]\n",
      "   ...\n",
      "   [0.5254902 ]\n",
      "   [0.5254902 ]\n",
      "   [0.5254902 ]]\n",
      "\n",
      "  ...\n",
      "\n",
      "  [[0.57254902]\n",
      "   [0.58039216]\n",
      "   [0.57647059]\n",
      "   ...\n",
      "   [0.5254902 ]\n",
      "   [0.5254902 ]\n",
      "   [0.5254902 ]]\n",
      "\n",
      "  [[0.56470588]\n",
      "   [0.56470588]\n",
      "   [0.57647059]\n",
      "   ...\n",
      "   [0.5254902 ]\n",
      "   [0.5254902 ]\n",
      "   [0.5254902 ]]\n",
      "\n",
      "  [[0.5254902 ]\n",
      "   [0.5254902 ]\n",
      "   [0.53333333]\n",
      "   ...\n",
      "   [0.5254902 ]\n",
      "   [0.5254902 ]\n",
      "   [0.5254902 ]]]]\n"
     ]
    }
   ],
   "source": [
    "print(x_train)"
   ]
  },
  {
   "cell_type": "code",
   "execution_count": null,
   "metadata": {},
   "outputs": [],
   "source": []
  },
  {
   "cell_type": "code",
   "execution_count": null,
   "metadata": {},
   "outputs": [],
   "source": []
  },
  {
   "cell_type": "code",
   "execution_count": 10,
   "metadata": {},
   "outputs": [],
   "source": [
    "#建模"
   ]
  },
  {
   "cell_type": "code",
   "execution_count": 11,
   "metadata": {},
   "outputs": [],
   "source": [
    "model = Sequential()\n",
    "\n",
    "model.add(Conv2D(32,(3,3),input_shape=(150,150,1),padding='same',activation ='relu'))\n",
    "model.add(MaxPooling2D(pool_size = (2,2)))\n",
    "\n",
    "model.add(Conv2D(64,(3,3),padding='same',activation ='relu'))\n",
    "model.add(MaxPooling2D(pool_size = (2,2)))\n",
    "model.add(Flatten())\n",
    "model.add(Dense(64, activation='relu'))\n",
    "model.add(Dense(1, activation='sigmoid'))\n"
   ]
  },
  {
   "cell_type": "code",
   "execution_count": 12,
   "metadata": {},
   "outputs": [
    {
     "name": "stdout",
     "output_type": "stream",
     "text": [
      "Model: \"sequential\"\n",
      "_________________________________________________________________\n",
      "Layer (type)                 Output Shape              Param #   \n",
      "=================================================================\n",
      "conv2d (Conv2D)              (None, 150, 150, 32)      320       \n",
      "_________________________________________________________________\n",
      "max_pooling2d (MaxPooling2D) (None, 75, 75, 32)        0         \n",
      "_________________________________________________________________\n",
      "conv2d_1 (Conv2D)            (None, 75, 75, 64)        18496     \n",
      "_________________________________________________________________\n",
      "max_pooling2d_1 (MaxPooling2 (None, 37, 37, 64)        0         \n",
      "_________________________________________________________________\n",
      "flatten (Flatten)            (None, 87616)             0         \n",
      "_________________________________________________________________\n",
      "dense (Dense)                (None, 64)                5607488   \n",
      "_________________________________________________________________\n",
      "dense_1 (Dense)              (None, 1)                 65        \n",
      "=================================================================\n",
      "Total params: 5,626,369\n",
      "Trainable params: 5,626,369\n",
      "Non-trainable params: 0\n",
      "_________________________________________________________________\n"
     ]
    }
   ],
   "source": [
    "model.summary()"
   ]
  },
  {
   "cell_type": "code",
   "execution_count": 13,
   "metadata": {},
   "outputs": [],
   "source": [
    "model.compile(optimizer='adam', #或是optimizer=\"adam\" \n",
    "              loss='binary_crossentropy',metrics=['accuracy'])"
   ]
  },
  {
   "cell_type": "code",
   "execution_count": 14,
   "metadata": {},
   "outputs": [],
   "source": [
    "#訓練資料"
   ]
  },
  {
   "cell_type": "code",
   "execution_count": 14,
   "metadata": {
    "scrolled": true
   },
   "outputs": [
    {
     "name": "stdout",
     "output_type": "stream",
     "text": [
      "Epoch 1/3\n"
     ]
    },
    {
     "name": "stdout",
     "output_type": "stream",
     "text": [
      "186/250 [=====================>........] - ETA: 0s - loss: 0.6997 - accuracy: 0.49 - ETA: 2:22 - loss: 1.3316 - accuracy: 0.52 - ETA: 3:00 - loss: 1.1123 - accuracy: 0.53 - ETA: 3:20 - loss: 1.1116 - accuracy: 0.49 - ETA: 3:31 - loss: 1.0505 - accuracy: 0.50 - ETA: 3:39 - loss: 0.9959 - accuracy: 0.49 - ETA: 3:43 - loss: 0.9520 - accuracy: 0.50 - ETA: 3:48 - loss: 0.9199 - accuracy: 0.50 - ETA: 3:52 - loss: 0.8948 - accuracy: 0.49 - ETA: 3:54 - loss: 0.8749 - accuracy: 0.48 - ETA: 3:56 - loss: 0.8589 - accuracy: 0.48 - ETA: 3:57 - loss: 0.8453 - accuracy: 0.48 - ETA: 3:56 - loss: 0.8334 - accuracy: 0.48 - ETA: 3:56 - loss: 0.8235 - accuracy: 0.48 - ETA: 3:55 - loss: 0.8149 - accuracy: 0.48 - ETA: 3:55 - loss: 0.8073 - accuracy: 0.48 - ETA: 3:54 - loss: 0.8005 - accuracy: 0.48 - ETA: 3:53 - loss: 0.7945 - accuracy: 0.49 - ETA: 3:53 - loss: 0.7890 - accuracy: 0.49 - ETA: 3:52 - loss: 0.7842 - accuracy: 0.50 - ETA: 3:52 - loss: 0.7799 - accuracy: 0.50 - ETA: 3:51 - loss: 0.7758 - accuracy: 0.50 - ETA: 3:50 - loss: 0.7721 - accuracy: 0.50 - ETA: 3:49 - loss: 0.7686 - accuracy: 0.50 - ETA: 3:48 - loss: 0.7656 - accuracy: 0.50 - ETA: 3:48 - loss: 0.7627 - accuracy: 0.50 - ETA: 3:46 - loss: 0.7600 - accuracy: 0.50 - ETA: 3:46 - loss: 0.7574 - accuracy: 0.51 - ETA: 3:45 - loss: 0.7550 - accuracy: 0.51 - ETA: 3:44 - loss: 0.7534 - accuracy: 0.51 - ETA: 3:43 - loss: 0.7513 - accuracy: 0.51 - ETA: 3:43 - loss: 0.7498 - accuracy: 0.50 - ETA: 3:42 - loss: 0.7477 - accuracy: 0.51 - ETA: 3:41 - loss: 0.7465 - accuracy: 0.51 - ETA: 3:40 - loss: 0.7450 - accuracy: 0.51 - ETA: 3:39 - loss: 0.7432 - accuracy: 0.51 - ETA: 3:38 - loss: 0.7418 - accuracy: 0.51 - ETA: 3:37 - loss: 0.7400 - accuracy: 0.51 - ETA: 3:36 - loss: 0.7388 - accuracy: 0.51 - ETA: 3:34 - loss: 0.7378 - accuracy: 0.51 - ETA: 3:33 - loss: 0.7366 - accuracy: 0.51 - ETA: 3:32 - loss: 0.7354 - accuracy: 0.51 - ETA: 3:31 - loss: 0.7344 - accuracy: 0.51 - ETA: 3:30 - loss: 0.7332 - accuracy: 0.51 - ETA: 3:28 - loss: 0.7321 - accuracy: 0.51 - ETA: 3:27 - loss: 0.7312 - accuracy: 0.51 - ETA: 3:26 - loss: 0.7305 - accuracy: 0.51 - ETA: 3:25 - loss: 0.7293 - accuracy: 0.52 - ETA: 3:24 - loss: 0.7283 - accuracy: 0.52 - ETA: 3:23 - loss: 0.7273 - accuracy: 0.52 - ETA: 3:22 - loss: 0.7261 - accuracy: 0.52 - ETA: 3:21 - loss: 0.7253 - accuracy: 0.52 - ETA: 3:20 - loss: 0.7244 - accuracy: 0.52 - ETA: 3:19 - loss: 0.7235 - accuracy: 0.53 - ETA: 3:18 - loss: 0.7227 - accuracy: 0.53 - ETA: 3:17 - loss: 0.7217 - accuracy: 0.53 - ETA: 3:16 - loss: 0.7203 - accuracy: 0.53 - ETA: 3:15 - loss: 0.7189 - accuracy: 0.53 - ETA: 3:13 - loss: 0.7184 - accuracy: 0.53 - ETA: 3:12 - loss: 0.7176 - accuracy: 0.53 - ETA: 3:11 - loss: 0.7163 - accuracy: 0.53 - ETA: 3:10 - loss: 0.7161 - accuracy: 0.53 - ETA: 3:09 - loss: 0.7152 - accuracy: 0.54 - ETA: 3:08 - loss: 0.7143 - accuracy: 0.54 - ETA: 3:07 - loss: 0.7130 - accuracy: 0.54 - ETA: 3:06 - loss: 0.7120 - accuracy: 0.54 - ETA: 3:05 - loss: 0.7121 - accuracy: 0.54 - ETA: 3:04 - loss: 0.7114 - accuracy: 0.54 - ETA: 3:03 - loss: 0.7100 - accuracy: 0.54 - ETA: 3:02 - loss: 0.7091 - accuracy: 0.54 - ETA: 3:01 - loss: 0.7084 - accuracy: 0.54 - ETA: 3:00 - loss: 0.7078 - accuracy: 0.54 - ETA: 2:59 - loss: 0.7070 - accuracy: 0.55 - ETA: 2:58 - loss: 0.7063 - accuracy: 0.55 - ETA: 2:57 - loss: 0.7052 - accuracy: 0.55 - ETA: 2:56 - loss: 0.7048 - accuracy: 0.55 - ETA: 2:55 - loss: 0.7043 - accuracy: 0.55 - ETA: 2:54 - loss: 0.7035 - accuracy: 0.55 - ETA: 2:54 - loss: 0.7025 - accuracy: 0.55 - ETA: 2:53 - loss: 0.7020 - accuracy: 0.55 - ETA: 2:52 - loss: 0.7016 - accuracy: 0.55 - ETA: 2:51 - loss: 0.7014 - accuracy: 0.55 - ETA: 2:50 - loss: 0.7011 - accuracy: 0.55 - ETA: 2:49 - loss: 0.7007 - accuracy: 0.55 - ETA: 2:48 - loss: 0.7004 - accuracy: 0.55 - ETA: 2:47 - loss: 0.7000 - accuracy: 0.55 - ETA: 2:46 - loss: 0.6995 - accuracy: 0.55 - ETA: 2:45 - loss: 0.6992 - accuracy: 0.55 - ETA: 2:44 - loss: 0.6988 - accuracy: 0.55 - ETA: 2:43 - loss: 0.6980 - accuracy: 0.56 - ETA: 2:42 - loss: 0.6972 - accuracy: 0.56 - ETA: 2:41 - loss: 0.6966 - accuracy: 0.56 - ETA: 2:40 - loss: 0.6961 - accuracy: 0.56 - ETA: 2:39 - loss: 0.6957 - accuracy: 0.56 - ETA: 2:37 - loss: 0.6950 - accuracy: 0.56 - ETA: 2:36 - loss: 0.6946 - accuracy: 0.56 - ETA: 2:35 - loss: 0.6939 - accuracy: 0.56 - ETA: 2:34 - loss: 0.6928 - accuracy: 0.56 - ETA: 2:33 - loss: 0.6920 - accuracy: 0.57 - ETA: 2:32 - loss: 0.6915 - accuracy: 0.57 - ETA: 2:31 - loss: 0.6915 - accuracy: 0.57 - ETA: 2:30 - loss: 0.6911 - accuracy: 0.57 - ETA: 2:29 - loss: 0.6905 - accuracy: 0.57 - ETA: 2:28 - loss: 0.6895 - accuracy: 0.57 - ETA: 2:27 - loss: 0.6886 - accuracy: 0.57 - ETA: 2:26 - loss: 0.6883 - accuracy: 0.57 - ETA: 2:25 - loss: 0.6873 - accuracy: 0.57 - ETA: 2:24 - loss: 0.6869 - accuracy: 0.57 - ETA: 2:23 - loss: 0.6866 - accuracy: 0.57 - ETA: 2:21 - loss: 0.6860 - accuracy: 0.57 - ETA: 2:20 - loss: 0.6858 - accuracy: 0.57 - ETA: 2:19 - loss: 0.6857 - accuracy: 0.57 - ETA: 2:18 - loss: 0.6852 - accuracy: 0.57 - ETA: 2:17 - loss: 0.6848 - accuracy: 0.57 - ETA: 2:16 - loss: 0.6840 - accuracy: 0.58 - ETA: 2:15 - loss: 0.6832 - accuracy: 0.58 - ETA: 2:14 - loss: 0.6822 - accuracy: 0.58 - ETA: 2:13 - loss: 0.6825 - accuracy: 0.58 - ETA: 2:12 - loss: 0.6814 - accuracy: 0.58 - ETA: 2:11 - loss: 0.6804 - accuracy: 0.58 - ETA: 2:10 - loss: 0.6798 - accuracy: 0.58 - ETA: 2:09 - loss: 0.6793 - accuracy: 0.58 - ETA: 2:08 - loss: 0.6784 - accuracy: 0.58 - ETA: 2:07 - loss: 0.6775 - accuracy: 0.58 - ETA: 2:06 - loss: 0.6774 - accuracy: 0.58 - ETA: 2:05 - loss: 0.6768 - accuracy: 0.58 - ETA: 2:04 - loss: 0.6763 - accuracy: 0.58 - ETA: 2:03 - loss: 0.6756 - accuracy: 0.58 - ETA: 2:02 - loss: 0.6749 - accuracy: 0.59 - ETA: 2:01 - loss: 0.6742 - accuracy: 0.59 - ETA: 2:00 - loss: 0.6735 - accuracy: 0.59 - ETA: 1:58 - loss: 0.6727 - accuracy: 0.59 - ETA: 1:57 - loss: 0.6717 - accuracy: 0.59 - ETA: 1:56 - loss: 0.6711 - accuracy: 0.59 - ETA: 1:55 - loss: 0.6708 - accuracy: 0.59 - ETA: 1:54 - loss: 0.6701 - accuracy: 0.59 - ETA: 1:53 - loss: 0.6697 - accuracy: 0.59 - ETA: 1:52 - loss: 0.6693 - accuracy: 0.59 - ETA: 1:51 - loss: 0.6687 - accuracy: 0.59 - ETA: 1:50 - loss: 0.6680 - accuracy: 0.59 - ETA: 1:49 - loss: 0.6678 - accuracy: 0.59 - ETA: 1:48 - loss: 0.6667 - accuracy: 0.60 - ETA: 1:47 - loss: 0.6661 - accuracy: 0.60 - ETA: 1:46 - loss: 0.6659 - accuracy: 0.60 - ETA: 1:45 - loss: 0.6655 - accuracy: 0.60 - ETA: 1:44 - loss: 0.6648 - accuracy: 0.60 - ETA: 1:43 - loss: 0.6641 - accuracy: 0.60 - ETA: 1:42 - loss: 0.6639 - accuracy: 0.60 - ETA: 1:41 - loss: 0.6637 - accuracy: 0.60 - ETA: 1:40 - loss: 0.6631 - accuracy: 0.60 - ETA: 1:39 - loss: 0.6623 - accuracy: 0.60 - ETA: 1:38 - loss: 0.6617 - accuracy: 0.60 - ETA: 1:37 - loss: 0.6611 - accuracy: 0.60 - ETA: 1:36 - loss: 0.6606 - accuracy: 0.60 - ETA: 1:35 - loss: 0.6602 - accuracy: 0.60 - ETA: 1:34 - loss: 0.6595 - accuracy: 0.60 - ETA: 1:33 - loss: 0.6590 - accuracy: 0.60 - ETA: 1:32 - loss: 0.6585 - accuracy: 0.60 - ETA: 1:31 - loss: 0.6584 - accuracy: 0.60 - ETA: 1:30 - loss: 0.6576 - accuracy: 0.61 - ETA: 1:29 - loss: 0.6571 - accuracy: 0.61 - ETA: 1:28 - loss: 0.6568 - accuracy: 0.61 - ETA: 1:27 - loss: 0.6563 - accuracy: 0.61 - ETA: 1:26 - loss: 0.6557 - accuracy: 0.61 - ETA: 1:25 - loss: 0.6551 - accuracy: 0.61 - ETA: 1:24 - loss: 0.6544 - accuracy: 0.61 - ETA: 1:23 - loss: 0.6542 - accuracy: 0.61 - ETA: 1:22 - loss: 0.6537 - accuracy: 0.61 - ETA: 1:21 - loss: 0.6538 - accuracy: 0.61 - ETA: 1:20 - loss: 0.6534 - accuracy: 0.61 - ETA: 1:19 - loss: 0.6528 - accuracy: 0.61 - ETA: 1:18 - loss: 0.6525 - accuracy: 0.61 - ETA: 1:17 - loss: 0.6521 - accuracy: 0.61 - ETA: 1:16 - loss: 0.6516 - accuracy: 0.61 - ETA: 1:15 - loss: 0.6510 - accuracy: 0.61 - ETA: 1:14 - loss: 0.6504 - accuracy: 0.61 - ETA: 1:13 - loss: 0.6498 - accuracy: 0.61 - ETA: 1:12 - loss: 0.6494 - accuracy: 0.61 - ETA: 1:11 - loss: 0.6491 - accuracy: 0.61 - ETA: 1:10 - loss: 0.6483 - accuracy: 0.61 - ETA: 1:09 - loss: 0.6477 - accuracy: 0.62 - ETA: 1:08 - loss: 0.6472 - accuracy: 0.62 - ETA: 1:07 - loss: 0.6463 - accuracy: 0.62 - ETA: 1:06 - loss: 0.6459 - accuracy: 0.62 - ETA: 1:05 - loss: 0.6452 - accuracy: 0.62 - ETA: 1:04 - loss: 0.6447 - accuracy: 0.62250/250 [==============================] - ETA: 1:03 - loss: 0.6439 - accuracy: 0.62 - ETA: 1:02 - loss: 0.6439 - accuracy: 0.62 - ETA: 1:01 - loss: 0.6433 - accuracy: 0.62 - ETA: 1:00 - loss: 0.6427 - accuracy: 0.62 - ETA: 59s - loss: 0.6423 - accuracy: 0.6253 - ETA: 58s - loss: 0.6419 - accuracy: 0.625 - ETA: 57s - loss: 0.6417 - accuracy: 0.625 - ETA: 56s - loss: 0.6411 - accuracy: 0.626 - ETA: 55s - loss: 0.6407 - accuracy: 0.626 - ETA: 54s - loss: 0.6403 - accuracy: 0.627 - ETA: 53s - loss: 0.6397 - accuracy: 0.628 - ETA: 52s - loss: 0.6387 - accuracy: 0.628 - ETA: 51s - loss: 0.6381 - accuracy: 0.629 - ETA: 50s - loss: 0.6380 - accuracy: 0.630 - ETA: 49s - loss: 0.6373 - accuracy: 0.630 - ETA: 48s - loss: 0.6368 - accuracy: 0.631 - ETA: 47s - loss: 0.6366 - accuracy: 0.631 - ETA: 46s - loss: 0.6361 - accuracy: 0.631 - ETA: 45s - loss: 0.6358 - accuracy: 0.632 - ETA: 44s - loss: 0.6356 - accuracy: 0.632 - ETA: 43s - loss: 0.6351 - accuracy: 0.632 - ETA: 42s - loss: 0.6348 - accuracy: 0.632 - ETA: 41s - loss: 0.6345 - accuracy: 0.633 - ETA: 40s - loss: 0.6340 - accuracy: 0.633 - ETA: 39s - loss: 0.6337 - accuracy: 0.634 - ETA: 38s - loss: 0.6334 - accuracy: 0.634 - ETA: 37s - loss: 0.6331 - accuracy: 0.634 - ETA: 36s - loss: 0.6332 - accuracy: 0.634 - ETA: 35s - loss: 0.6329 - accuracy: 0.635 - ETA: 34s - loss: 0.6323 - accuracy: 0.635 - ETA: 33s - loss: 0.6319 - accuracy: 0.635 - ETA: 32s - loss: 0.6316 - accuracy: 0.636 - ETA: 31s - loss: 0.6310 - accuracy: 0.636 - ETA: 30s - loss: 0.6306 - accuracy: 0.637 - ETA: 29s - loss: 0.6300 - accuracy: 0.637 - ETA: 28s - loss: 0.6301 - accuracy: 0.637 - ETA: 27s - loss: 0.6295 - accuracy: 0.638 - ETA: 26s - loss: 0.6291 - accuracy: 0.638 - ETA: 25s - loss: 0.6288 - accuracy: 0.639 - ETA: 24s - loss: 0.6286 - accuracy: 0.639 - ETA: 23s - loss: 0.6281 - accuracy: 0.640 - ETA: 22s - loss: 0.6280 - accuracy: 0.640 - ETA: 21s - loss: 0.6275 - accuracy: 0.640 - ETA: 20s - loss: 0.6272 - accuracy: 0.641 - ETA: 19s - loss: 0.6269 - accuracy: 0.641 - ETA: 18s - loss: 0.6261 - accuracy: 0.642 - ETA: 17s - loss: 0.6259 - accuracy: 0.643 - ETA: 16s - loss: 0.6255 - accuracy: 0.643 - ETA: 15s - loss: 0.6249 - accuracy: 0.643 - ETA: 14s - loss: 0.6242 - accuracy: 0.644 - ETA: 13s - loss: 0.6240 - accuracy: 0.645 - ETA: 12s - loss: 0.6233 - accuracy: 0.645 - ETA: 11s - loss: 0.6229 - accuracy: 0.646 - ETA: 10s - loss: 0.6223 - accuracy: 0.646 - ETA: 9s - loss: 0.6218 - accuracy: 0.647 - ETA: 8s - loss: 0.6214 - accuracy: 0.64 - ETA: 7s - loss: 0.6209 - accuracy: 0.64 - ETA: 6s - loss: 0.6204 - accuracy: 0.64 - ETA: 5s - loss: 0.6203 - accuracy: 0.64 - ETA: 4s - loss: 0.6201 - accuracy: 0.64 - ETA: 3s - loss: 0.6199 - accuracy: 0.64 - ETA: 2s - loss: 0.6197 - accuracy: 0.64 - ETA: 1s - loss: 0.6192 - accuracy: 0.64 - ETA: 0s - loss: 0.6191 - accuracy: 0.64 - 251s 1s/step - loss: 0.6191 - accuracy: 0.6498\n",
      "Epoch 2/3\n"
     ]
    },
    {
     "name": "stdout",
     "output_type": "stream",
     "text": [
      "186/250 [=====================>........] - ETA: 0s - loss: 0.5023 - accuracy: 0.77 - ETA: 2:00 - loss: 0.5218 - accuracy: 0.72 - ETA: 2:42 - loss: 0.5138 - accuracy: 0.73 - ETA: 3:08 - loss: 0.5316 - accuracy: 0.72 - ETA: 3:21 - loss: 0.5274 - accuracy: 0.72 - ETA: 3:28 - loss: 0.5213 - accuracy: 0.73 - ETA: 3:33 - loss: 0.5208 - accuracy: 0.73 - ETA: 3:36 - loss: 0.5155 - accuracy: 0.74 - ETA: 3:37 - loss: 0.5114 - accuracy: 0.75 - ETA: 3:39 - loss: 0.5115 - accuracy: 0.74 - ETA: 3:40 - loss: 0.5120 - accuracy: 0.74 - ETA: 3:41 - loss: 0.5155 - accuracy: 0.74 - ETA: 3:41 - loss: 0.5092 - accuracy: 0.75 - ETA: 3:41 - loss: 0.5095 - accuracy: 0.75 - ETA: 3:41 - loss: 0.5140 - accuracy: 0.75 - ETA: 3:41 - loss: 0.5196 - accuracy: 0.74 - ETA: 3:42 - loss: 0.5158 - accuracy: 0.75 - ETA: 3:43 - loss: 0.5171 - accuracy: 0.75 - ETA: 3:43 - loss: 0.5162 - accuracy: 0.74 - ETA: 3:44 - loss: 0.5149 - accuracy: 0.74 - ETA: 3:44 - loss: 0.5154 - accuracy: 0.74 - ETA: 3:44 - loss: 0.5146 - accuracy: 0.74 - ETA: 3:43 - loss: 0.5152 - accuracy: 0.74 - ETA: 3:43 - loss: 0.5137 - accuracy: 0.74 - ETA: 3:43 - loss: 0.5145 - accuracy: 0.74 - ETA: 3:42 - loss: 0.5157 - accuracy: 0.74 - ETA: 3:41 - loss: 0.5138 - accuracy: 0.74 - ETA: 3:41 - loss: 0.5143 - accuracy: 0.74 - ETA: 3:40 - loss: 0.5144 - accuracy: 0.74 - ETA: 3:40 - loss: 0.5128 - accuracy: 0.74 - ETA: 3:40 - loss: 0.5141 - accuracy: 0.74 - ETA: 3:39 - loss: 0.5142 - accuracy: 0.74 - ETA: 3:40 - loss: 0.5213 - accuracy: 0.73 - ETA: 3:39 - loss: 0.5202 - accuracy: 0.73 - ETA: 3:38 - loss: 0.5203 - accuracy: 0.73 - ETA: 3:37 - loss: 0.5214 - accuracy: 0.73 - ETA: 3:36 - loss: 0.5221 - accuracy: 0.73 - ETA: 3:35 - loss: 0.5219 - accuracy: 0.73 - ETA: 3:35 - loss: 0.5231 - accuracy: 0.73 - ETA: 3:34 - loss: 0.5216 - accuracy: 0.73 - ETA: 3:33 - loss: 0.5240 - accuracy: 0.73 - ETA: 3:33 - loss: 0.5238 - accuracy: 0.73 - ETA: 3:32 - loss: 0.5229 - accuracy: 0.73 - ETA: 3:32 - loss: 0.5227 - accuracy: 0.73 - ETA: 3:31 - loss: 0.5226 - accuracy: 0.73 - ETA: 3:30 - loss: 0.5260 - accuracy: 0.73 - ETA: 3:30 - loss: 0.5274 - accuracy: 0.73 - ETA: 3:30 - loss: 0.5282 - accuracy: 0.73 - ETA: 3:29 - loss: 0.5279 - accuracy: 0.73 - ETA: 3:28 - loss: 0.5278 - accuracy: 0.73 - ETA: 3:27 - loss: 0.5277 - accuracy: 0.73 - ETA: 3:26 - loss: 0.5280 - accuracy: 0.73 - ETA: 3:25 - loss: 0.5280 - accuracy: 0.73 - ETA: 3:24 - loss: 0.5272 - accuracy: 0.73 - ETA: 3:24 - loss: 0.5266 - accuracy: 0.73 - ETA: 3:23 - loss: 0.5267 - accuracy: 0.73 - ETA: 3:23 - loss: 0.5275 - accuracy: 0.73 - ETA: 3:22 - loss: 0.5285 - accuracy: 0.73 - ETA: 3:21 - loss: 0.5290 - accuracy: 0.73 - ETA: 3:20 - loss: 0.5288 - accuracy: 0.73 - ETA: 3:19 - loss: 0.5294 - accuracy: 0.73 - ETA: 3:19 - loss: 0.5281 - accuracy: 0.73 - ETA: 3:18 - loss: 0.5289 - accuracy: 0.73 - ETA: 3:17 - loss: 0.5284 - accuracy: 0.73 - ETA: 3:16 - loss: 0.5278 - accuracy: 0.73 - ETA: 3:16 - loss: 0.5279 - accuracy: 0.73 - ETA: 3:15 - loss: 0.5269 - accuracy: 0.73 - ETA: 3:15 - loss: 0.5266 - accuracy: 0.73 - ETA: 3:14 - loss: 0.5268 - accuracy: 0.73 - ETA: 3:13 - loss: 0.5258 - accuracy: 0.73 - ETA: 3:12 - loss: 0.5251 - accuracy: 0.73 - ETA: 3:11 - loss: 0.5243 - accuracy: 0.73 - ETA: 3:10 - loss: 0.5247 - accuracy: 0.73 - ETA: 3:09 - loss: 0.5252 - accuracy: 0.73 - ETA: 3:08 - loss: 0.5250 - accuracy: 0.73 - ETA: 3:07 - loss: 0.5250 - accuracy: 0.73 - ETA: 3:06 - loss: 0.5250 - accuracy: 0.73 - ETA: 3:05 - loss: 0.5242 - accuracy: 0.73 - ETA: 3:04 - loss: 0.5240 - accuracy: 0.73 - ETA: 3:03 - loss: 0.5246 - accuracy: 0.73 - ETA: 3:02 - loss: 0.5243 - accuracy: 0.73 - ETA: 3:01 - loss: 0.5236 - accuracy: 0.73 - ETA: 3:00 - loss: 0.5235 - accuracy: 0.73 - ETA: 2:59 - loss: 0.5240 - accuracy: 0.73 - ETA: 2:58 - loss: 0.5238 - accuracy: 0.73 - ETA: 2:57 - loss: 0.5231 - accuracy: 0.73 - ETA: 2:56 - loss: 0.5231 - accuracy: 0.73 - ETA: 2:55 - loss: 0.5227 - accuracy: 0.73 - ETA: 2:54 - loss: 0.5219 - accuracy: 0.73 - ETA: 2:52 - loss: 0.5217 - accuracy: 0.73 - ETA: 2:51 - loss: 0.5220 - accuracy: 0.73 - ETA: 2:50 - loss: 0.5220 - accuracy: 0.73 - ETA: 2:49 - loss: 0.5212 - accuracy: 0.73 - ETA: 2:48 - loss: 0.5210 - accuracy: 0.73 - ETA: 2:47 - loss: 0.5201 - accuracy: 0.74 - ETA: 2:47 - loss: 0.5203 - accuracy: 0.74 - ETA: 2:46 - loss: 0.5199 - accuracy: 0.74 - ETA: 2:45 - loss: 0.5199 - accuracy: 0.74 - ETA: 2:44 - loss: 0.5195 - accuracy: 0.74 - ETA: 2:42 - loss: 0.5187 - accuracy: 0.74 - ETA: 2:41 - loss: 0.5195 - accuracy: 0.74 - ETA: 2:40 - loss: 0.5195 - accuracy: 0.74 - ETA: 2:39 - loss: 0.5189 - accuracy: 0.74 - ETA: 2:38 - loss: 0.5182 - accuracy: 0.74 - ETA: 2:37 - loss: 0.5176 - accuracy: 0.74 - ETA: 2:36 - loss: 0.5173 - accuracy: 0.74 - ETA: 2:35 - loss: 0.5171 - accuracy: 0.74 - ETA: 2:34 - loss: 0.5172 - accuracy: 0.74 - ETA: 2:33 - loss: 0.5168 - accuracy: 0.74 - ETA: 2:32 - loss: 0.5163 - accuracy: 0.74 - ETA: 2:31 - loss: 0.5162 - accuracy: 0.74 - ETA: 2:30 - loss: 0.5162 - accuracy: 0.74 - ETA: 2:29 - loss: 0.5164 - accuracy: 0.74 - ETA: 2:28 - loss: 0.5160 - accuracy: 0.74 - ETA: 2:27 - loss: 0.5161 - accuracy: 0.74 - ETA: 2:26 - loss: 0.5155 - accuracy: 0.74 - ETA: 2:25 - loss: 0.5157 - accuracy: 0.74 - ETA: 2:24 - loss: 0.5152 - accuracy: 0.74 - ETA: 2:23 - loss: 0.5143 - accuracy: 0.74 - ETA: 2:22 - loss: 0.5139 - accuracy: 0.74 - ETA: 2:21 - loss: 0.5137 - accuracy: 0.74 - ETA: 2:20 - loss: 0.5131 - accuracy: 0.74 - ETA: 2:19 - loss: 0.5135 - accuracy: 0.74 - ETA: 2:18 - loss: 0.5138 - accuracy: 0.74 - ETA: 2:17 - loss: 0.5131 - accuracy: 0.74 - ETA: 2:16 - loss: 0.5132 - accuracy: 0.74 - ETA: 2:15 - loss: 0.5132 - accuracy: 0.74 - ETA: 2:14 - loss: 0.5129 - accuracy: 0.74 - ETA: 2:13 - loss: 0.5125 - accuracy: 0.74 - ETA: 2:12 - loss: 0.5123 - accuracy: 0.74 - ETA: 2:11 - loss: 0.5127 - accuracy: 0.74 - ETA: 2:10 - loss: 0.5123 - accuracy: 0.74 - ETA: 2:09 - loss: 0.5124 - accuracy: 0.74 - ETA: 2:08 - loss: 0.5121 - accuracy: 0.74 - ETA: 2:06 - loss: 0.5121 - accuracy: 0.74 - ETA: 2:05 - loss: 0.5123 - accuracy: 0.74 - ETA: 2:04 - loss: 0.5122 - accuracy: 0.74 - ETA: 2:03 - loss: 0.5130 - accuracy: 0.74 - ETA: 2:02 - loss: 0.5135 - accuracy: 0.74 - ETA: 2:01 - loss: 0.5136 - accuracy: 0.74 - ETA: 2:00 - loss: 0.5131 - accuracy: 0.74 - ETA: 1:59 - loss: 0.5130 - accuracy: 0.74 - ETA: 1:58 - loss: 0.5126 - accuracy: 0.74 - ETA: 1:56 - loss: 0.5123 - accuracy: 0.74 - ETA: 1:55 - loss: 0.5118 - accuracy: 0.74 - ETA: 1:54 - loss: 0.5122 - accuracy: 0.74 - ETA: 1:53 - loss: 0.5115 - accuracy: 0.74 - ETA: 1:52 - loss: 0.5110 - accuracy: 0.74 - ETA: 1:51 - loss: 0.5110 - accuracy: 0.74 - ETA: 1:50 - loss: 0.5108 - accuracy: 0.74 - ETA: 1:49 - loss: 0.5109 - accuracy: 0.74 - ETA: 1:47 - loss: 0.5106 - accuracy: 0.74 - ETA: 1:46 - loss: 0.5104 - accuracy: 0.74 - ETA: 1:45 - loss: 0.5108 - accuracy: 0.74 - ETA: 1:44 - loss: 0.5105 - accuracy: 0.74 - ETA: 1:43 - loss: 0.5104 - accuracy: 0.74 - ETA: 1:42 - loss: 0.5106 - accuracy: 0.74 - ETA: 1:41 - loss: 0.5103 - accuracy: 0.74 - ETA: 1:40 - loss: 0.5104 - accuracy: 0.74 - ETA: 1:39 - loss: 0.5098 - accuracy: 0.74 - ETA: 1:38 - loss: 0.5095 - accuracy: 0.74 - ETA: 1:37 - loss: 0.5095 - accuracy: 0.74 - ETA: 1:36 - loss: 0.5097 - accuracy: 0.74 - ETA: 1:36 - loss: 0.5095 - accuracy: 0.74 - ETA: 1:35 - loss: 0.5091 - accuracy: 0.74 - ETA: 1:34 - loss: 0.5095 - accuracy: 0.74 - ETA: 1:33 - loss: 0.5090 - accuracy: 0.74 - ETA: 1:33 - loss: 0.5085 - accuracy: 0.75 - ETA: 1:32 - loss: 0.5087 - accuracy: 0.74 - ETA: 1:31 - loss: 0.5089 - accuracy: 0.74 - ETA: 1:30 - loss: 0.5089 - accuracy: 0.74 - ETA: 1:29 - loss: 0.5086 - accuracy: 0.75 - ETA: 1:29 - loss: 0.5089 - accuracy: 0.74 - ETA: 1:28 - loss: 0.5094 - accuracy: 0.74 - ETA: 1:27 - loss: 0.5093 - accuracy: 0.74 - ETA: 1:26 - loss: 0.5093 - accuracy: 0.74 - ETA: 1:25 - loss: 0.5095 - accuracy: 0.74 - ETA: 1:25 - loss: 0.5095 - accuracy: 0.74 - ETA: 1:24 - loss: 0.5096 - accuracy: 0.74 - ETA: 1:23 - loss: 0.5093 - accuracy: 0.74 - ETA: 1:22 - loss: 0.5094 - accuracy: 0.74 - ETA: 1:21 - loss: 0.5094 - accuracy: 0.74 - ETA: 1:20 - loss: 0.5092 - accuracy: 0.74 - ETA: 1:19 - loss: 0.5089 - accuracy: 0.75 - ETA: 1:18 - loss: 0.5089 - accuracy: 0.75 - ETA: 1:17 - loss: 0.5089 - accuracy: 0.7501"
     ]
    },
    {
     "name": "stdout",
     "output_type": "stream",
     "text": [
      "250/250 [==============================] - ETA: 1:16 - loss: 0.5086 - accuracy: 0.75 - ETA: 1:15 - loss: 0.5086 - accuracy: 0.75 - ETA: 1:14 - loss: 0.5086 - accuracy: 0.75 - ETA: 1:13 - loss: 0.5093 - accuracy: 0.74 - ETA: 1:12 - loss: 0.5091 - accuracy: 0.74 - ETA: 1:11 - loss: 0.5090 - accuracy: 0.74 - ETA: 1:10 - loss: 0.5091 - accuracy: 0.74 - ETA: 1:09 - loss: 0.5091 - accuracy: 0.74 - ETA: 1:08 - loss: 0.5088 - accuracy: 0.75 - ETA: 1:07 - loss: 0.5085 - accuracy: 0.75 - ETA: 1:06 - loss: 0.5080 - accuracy: 0.75 - ETA: 1:05 - loss: 0.5078 - accuracy: 0.75 - ETA: 1:04 - loss: 0.5077 - accuracy: 0.75 - ETA: 1:02 - loss: 0.5080 - accuracy: 0.75 - ETA: 1:01 - loss: 0.5079 - accuracy: 0.75 - ETA: 1:00 - loss: 0.5080 - accuracy: 0.75 - ETA: 59s - loss: 0.5079 - accuracy: 0.7509 - ETA: 58s - loss: 0.5076 - accuracy: 0.750 - ETA: 57s - loss: 0.5078 - accuracy: 0.750 - ETA: 56s - loss: 0.5078 - accuracy: 0.750 - ETA: 55s - loss: 0.5075 - accuracy: 0.750 - ETA: 53s - loss: 0.5074 - accuracy: 0.750 - ETA: 52s - loss: 0.5077 - accuracy: 0.750 - ETA: 51s - loss: 0.5079 - accuracy: 0.750 - ETA: 50s - loss: 0.5082 - accuracy: 0.749 - ETA: 49s - loss: 0.5077 - accuracy: 0.750 - ETA: 47s - loss: 0.5072 - accuracy: 0.750 - ETA: 46s - loss: 0.5069 - accuracy: 0.750 - ETA: 45s - loss: 0.5068 - accuracy: 0.750 - ETA: 44s - loss: 0.5067 - accuracy: 0.750 - ETA: 43s - loss: 0.5068 - accuracy: 0.750 - ETA: 41s - loss: 0.5066 - accuracy: 0.750 - ETA: 40s - loss: 0.5066 - accuracy: 0.750 - ETA: 39s - loss: 0.5067 - accuracy: 0.750 - ETA: 38s - loss: 0.5063 - accuracy: 0.751 - ETA: 36s - loss: 0.5063 - accuracy: 0.751 - ETA: 35s - loss: 0.5058 - accuracy: 0.751 - ETA: 34s - loss: 0.5057 - accuracy: 0.751 - ETA: 33s - loss: 0.5053 - accuracy: 0.751 - ETA: 31s - loss: 0.5056 - accuracy: 0.751 - ETA: 30s - loss: 0.5055 - accuracy: 0.751 - ETA: 29s - loss: 0.5054 - accuracy: 0.751 - ETA: 27s - loss: 0.5057 - accuracy: 0.751 - ETA: 26s - loss: 0.5061 - accuracy: 0.750 - ETA: 25s - loss: 0.5060 - accuracy: 0.751 - ETA: 24s - loss: 0.5060 - accuracy: 0.751 - ETA: 22s - loss: 0.5061 - accuracy: 0.751 - ETA: 21s - loss: 0.5059 - accuracy: 0.751 - ETA: 20s - loss: 0.5057 - accuracy: 0.751 - ETA: 18s - loss: 0.5061 - accuracy: 0.750 - ETA: 17s - loss: 0.5066 - accuracy: 0.750 - ETA: 16s - loss: 0.5063 - accuracy: 0.750 - ETA: 14s - loss: 0.5061 - accuracy: 0.751 - ETA: 13s - loss: 0.5063 - accuracy: 0.750 - ETA: 12s - loss: 0.5063 - accuracy: 0.750 - ETA: 10s - loss: 0.5067 - accuracy: 0.750 - ETA: 9s - loss: 0.5066 - accuracy: 0.750 - ETA: 8s - loss: 0.5066 - accuracy: 0.75 - ETA: 6s - loss: 0.5066 - accuracy: 0.75 - ETA: 5s - loss: 0.5062 - accuracy: 0.75 - ETA: 4s - loss: 0.5059 - accuracy: 0.75 - ETA: 2s - loss: 0.5059 - accuracy: 0.75 - ETA: 1s - loss: 0.5056 - accuracy: 0.75 - ETA: 0s - loss: 0.5052 - accuracy: 0.75 - 345s 1s/step - loss: 0.5052 - accuracy: 0.7519\n",
      "Epoch 3/3\n"
     ]
    },
    {
     "name": "stdout",
     "output_type": "stream",
     "text": [
      "186/250 [=====================>........] - ETA: 0s - loss: 0.4653 - accuracy: 0.79 - ETA: 3:49 - loss: 0.4573 - accuracy: 0.78 - ETA: 5:13 - loss: 0.4517 - accuracy: 0.79 - ETA: 5:44 - loss: 0.4452 - accuracy: 0.78 - ETA: 6:04 - loss: 0.4337 - accuracy: 0.80 - ETA: 6:27 - loss: 0.4260 - accuracy: 0.80 - ETA: 6:31 - loss: 0.4386 - accuracy: 0.79 - ETA: 6:34 - loss: 0.4410 - accuracy: 0.79 - ETA: 6:35 - loss: 0.4444 - accuracy: 0.79 - ETA: 6:38 - loss: 0.4401 - accuracy: 0.80 - ETA: 6:39 - loss: 0.4347 - accuracy: 0.80 - ETA: 6:42 - loss: 0.4354 - accuracy: 0.80 - ETA: 6:43 - loss: 0.4331 - accuracy: 0.80 - ETA: 6:43 - loss: 0.4293 - accuracy: 0.80 - ETA: 6:43 - loss: 0.4337 - accuracy: 0.80 - ETA: 6:45 - loss: 0.4421 - accuracy: 0.79 - ETA: 6:44 - loss: 0.4394 - accuracy: 0.79 - ETA: 6:45 - loss: 0.4418 - accuracy: 0.79 - ETA: 6:44 - loss: 0.4380 - accuracy: 0.79 - ETA: 6:44 - loss: 0.4378 - accuracy: 0.79 - ETA: 6:43 - loss: 0.4368 - accuracy: 0.79 - ETA: 6:42 - loss: 0.4391 - accuracy: 0.79 - ETA: 6:42 - loss: 0.4381 - accuracy: 0.79 - ETA: 6:41 - loss: 0.4377 - accuracy: 0.79 - ETA: 6:40 - loss: 0.4382 - accuracy: 0.79 - ETA: 6:39 - loss: 0.4370 - accuracy: 0.79 - ETA: 6:38 - loss: 0.4377 - accuracy: 0.79 - ETA: 6:37 - loss: 0.4371 - accuracy: 0.79 - ETA: 6:35 - loss: 0.4375 - accuracy: 0.79 - ETA: 6:34 - loss: 0.4384 - accuracy: 0.79 - ETA: 6:32 - loss: 0.4370 - accuracy: 0.79 - ETA: 6:31 - loss: 0.4370 - accuracy: 0.79 - ETA: 6:30 - loss: 0.4344 - accuracy: 0.79 - ETA: 6:29 - loss: 0.4374 - accuracy: 0.79 - ETA: 6:28 - loss: 0.4373 - accuracy: 0.79 - ETA: 6:26 - loss: 0.4394 - accuracy: 0.79 - ETA: 6:25 - loss: 0.4432 - accuracy: 0.79 - ETA: 6:24 - loss: 0.4449 - accuracy: 0.79 - ETA: 6:23 - loss: 0.4462 - accuracy: 0.79 - ETA: 6:21 - loss: 0.4508 - accuracy: 0.78 - ETA: 6:20 - loss: 0.4541 - accuracy: 0.78 - ETA: 6:17 - loss: 0.4539 - accuracy: 0.78 - ETA: 6:16 - loss: 0.4529 - accuracy: 0.78 - ETA: 6:15 - loss: 0.4538 - accuracy: 0.78 - ETA: 6:13 - loss: 0.4526 - accuracy: 0.78 - ETA: 6:12 - loss: 0.4542 - accuracy: 0.78 - ETA: 6:10 - loss: 0.4551 - accuracy: 0.78 - ETA: 6:08 - loss: 0.4542 - accuracy: 0.78 - ETA: 6:07 - loss: 0.4545 - accuracy: 0.78 - ETA: 6:06 - loss: 0.4547 - accuracy: 0.78 - ETA: 6:04 - loss: 0.4540 - accuracy: 0.78 - ETA: 6:02 - loss: 0.4549 - accuracy: 0.78 - ETA: 6:00 - loss: 0.4545 - accuracy: 0.78 - ETA: 5:58 - loss: 0.4536 - accuracy: 0.78 - ETA: 5:57 - loss: 0.4526 - accuracy: 0.78 - ETA: 5:55 - loss: 0.4517 - accuracy: 0.78 - ETA: 5:54 - loss: 0.4518 - accuracy: 0.78 - ETA: 5:52 - loss: 0.4527 - accuracy: 0.78 - ETA: 5:50 - loss: 0.4519 - accuracy: 0.78 - ETA: 5:48 - loss: 0.4538 - accuracy: 0.78 - ETA: 5:46 - loss: 0.4545 - accuracy: 0.78 - ETA: 5:44 - loss: 0.4543 - accuracy: 0.78 - ETA: 5:42 - loss: 0.4554 - accuracy: 0.78 - ETA: 5:41 - loss: 0.4552 - accuracy: 0.78 - ETA: 5:39 - loss: 0.4555 - accuracy: 0.78 - ETA: 5:37 - loss: 0.4562 - accuracy: 0.78 - ETA: 5:35 - loss: 0.4566 - accuracy: 0.78 - ETA: 5:33 - loss: 0.4573 - accuracy: 0.78 - ETA: 5:32 - loss: 0.4572 - accuracy: 0.78 - ETA: 5:30 - loss: 0.4574 - accuracy: 0.78 - ETA: 5:28 - loss: 0.4569 - accuracy: 0.78 - ETA: 5:26 - loss: 0.4578 - accuracy: 0.78 - ETA: 5:24 - loss: 0.4581 - accuracy: 0.78 - ETA: 5:22 - loss: 0.4592 - accuracy: 0.78 - ETA: 5:21 - loss: 0.4584 - accuracy: 0.78 - ETA: 5:19 - loss: 0.4592 - accuracy: 0.78 - ETA: 5:17 - loss: 0.4591 - accuracy: 0.78 - ETA: 5:15 - loss: 0.4588 - accuracy: 0.78 - ETA: 5:13 - loss: 0.4580 - accuracy: 0.78 - ETA: 5:11 - loss: 0.4586 - accuracy: 0.78 - ETA: 5:09 - loss: 0.4590 - accuracy: 0.78 - ETA: 5:07 - loss: 0.4598 - accuracy: 0.78 - ETA: 5:05 - loss: 0.4600 - accuracy: 0.78 - ETA: 5:03 - loss: 0.4601 - accuracy: 0.78 - ETA: 5:01 - loss: 0.4600 - accuracy: 0.78 - ETA: 4:59 - loss: 0.4605 - accuracy: 0.78 - ETA: 4:58 - loss: 0.4597 - accuracy: 0.78 - ETA: 4:56 - loss: 0.4596 - accuracy: 0.78 - ETA: 4:54 - loss: 0.4593 - accuracy: 0.78 - ETA: 4:52 - loss: 0.4598 - accuracy: 0.78 - ETA: 4:50 - loss: 0.4597 - accuracy: 0.78 - ETA: 4:48 - loss: 0.4595 - accuracy: 0.78 - ETA: 4:47 - loss: 0.4595 - accuracy: 0.78 - ETA: 4:45 - loss: 0.4598 - accuracy: 0.78 - ETA: 4:43 - loss: 0.4596 - accuracy: 0.78 - ETA: 4:41 - loss: 0.4591 - accuracy: 0.78 - ETA: 4:39 - loss: 0.4590 - accuracy: 0.78 - ETA: 4:38 - loss: 0.4591 - accuracy: 0.78 - ETA: 4:36 - loss: 0.4587 - accuracy: 0.78 - ETA: 4:34 - loss: 0.4589 - accuracy: 0.78 - ETA: 4:32 - loss: 0.4588 - accuracy: 0.78 - ETA: 4:30 - loss: 0.4579 - accuracy: 0.78 - ETA: 4:28 - loss: 0.4575 - accuracy: 0.78 - ETA: 4:26 - loss: 0.4578 - accuracy: 0.78 - ETA: 4:24 - loss: 0.4580 - accuracy: 0.78 - ETA: 4:22 - loss: 0.4586 - accuracy: 0.78 - ETA: 4:21 - loss: 0.4583 - accuracy: 0.78 - ETA: 4:19 - loss: 0.4582 - accuracy: 0.78 - ETA: 4:17 - loss: 0.4574 - accuracy: 0.78 - ETA: 4:15 - loss: 0.4569 - accuracy: 0.78 - ETA: 4:13 - loss: 0.4573 - accuracy: 0.78 - ETA: 4:11 - loss: 0.4568 - accuracy: 0.78 - ETA: 4:10 - loss: 0.4565 - accuracy: 0.78 - ETA: 4:08 - loss: 0.4562 - accuracy: 0.78 - ETA: 4:06 - loss: 0.4566 - accuracy: 0.78 - ETA: 4:04 - loss: 0.4565 - accuracy: 0.78 - ETA: 4:02 - loss: 0.4559 - accuracy: 0.78 - ETA: 4:01 - loss: 0.4567 - accuracy: 0.78 - ETA: 3:59 - loss: 0.4572 - accuracy: 0.78 - ETA: 3:57 - loss: 0.4567 - accuracy: 0.78 - ETA: 3:55 - loss: 0.4562 - accuracy: 0.78 - ETA: 3:53 - loss: 0.4562 - accuracy: 0.78 - ETA: 3:52 - loss: 0.4561 - accuracy: 0.78 - ETA: 3:50 - loss: 0.4557 - accuracy: 0.78 - ETA: 3:48 - loss: 0.4559 - accuracy: 0.78 - ETA: 3:46 - loss: 0.4555 - accuracy: 0.78 - ETA: 3:44 - loss: 0.4552 - accuracy: 0.78 - ETA: 3:42 - loss: 0.4552 - accuracy: 0.78 - ETA: 3:41 - loss: 0.4549 - accuracy: 0.78 - ETA: 3:39 - loss: 0.4555 - accuracy: 0.78 - ETA: 3:37 - loss: 0.4546 - accuracy: 0.78 - ETA: 3:35 - loss: 0.4544 - accuracy: 0.78 - ETA: 3:33 - loss: 0.4545 - accuracy: 0.78 - ETA: 3:32 - loss: 0.4547 - accuracy: 0.78 - ETA: 3:30 - loss: 0.4548 - accuracy: 0.78 - ETA: 3:28 - loss: 0.4546 - accuracy: 0.78 - ETA: 3:26 - loss: 0.4543 - accuracy: 0.78 - ETA: 3:24 - loss: 0.4542 - accuracy: 0.78 - ETA: 3:22 - loss: 0.4543 - accuracy: 0.78 - ETA: 3:20 - loss: 0.4542 - accuracy: 0.78 - ETA: 3:18 - loss: 0.4537 - accuracy: 0.78 - ETA: 3:17 - loss: 0.4540 - accuracy: 0.78 - ETA: 3:15 - loss: 0.4545 - accuracy: 0.78 - ETA: 3:13 - loss: 0.4540 - accuracy: 0.78 - ETA: 3:11 - loss: 0.4534 - accuracy: 0.78 - ETA: 3:09 - loss: 0.4534 - accuracy: 0.78 - ETA: 3:08 - loss: 0.4530 - accuracy: 0.78 - ETA: 3:06 - loss: 0.4527 - accuracy: 0.78 - ETA: 3:04 - loss: 0.4534 - accuracy: 0.78 - ETA: 3:02 - loss: 0.4534 - accuracy: 0.78 - ETA: 3:00 - loss: 0.4535 - accuracy: 0.78 - ETA: 2:59 - loss: 0.4532 - accuracy: 0.78 - ETA: 2:57 - loss: 0.4528 - accuracy: 0.78 - ETA: 2:55 - loss: 0.4522 - accuracy: 0.78 - ETA: 2:53 - loss: 0.4520 - accuracy: 0.78 - ETA: 2:51 - loss: 0.4523 - accuracy: 0.78 - ETA: 2:49 - loss: 0.4518 - accuracy: 0.78 - ETA: 2:47 - loss: 0.4512 - accuracy: 0.78 - ETA: 2:46 - loss: 0.4509 - accuracy: 0.78 - ETA: 2:44 - loss: 0.4510 - accuracy: 0.78 - ETA: 2:42 - loss: 0.4509 - accuracy: 0.78 - ETA: 2:40 - loss: 0.4503 - accuracy: 0.78 - ETA: 2:38 - loss: 0.4508 - accuracy: 0.78 - ETA: 2:36 - loss: 0.4507 - accuracy: 0.78 - ETA: 2:35 - loss: 0.4509 - accuracy: 0.78 - ETA: 2:33 - loss: 0.4506 - accuracy: 0.78 - ETA: 2:31 - loss: 0.4498 - accuracy: 0.78 - ETA: 2:29 - loss: 0.4498 - accuracy: 0.78 - ETA: 2:27 - loss: 0.4493 - accuracy: 0.78 - ETA: 2:25 - loss: 0.4492 - accuracy: 0.78 - ETA: 2:24 - loss: 0.4487 - accuracy: 0.79 - ETA: 2:22 - loss: 0.4485 - accuracy: 0.79 - ETA: 2:20 - loss: 0.4488 - accuracy: 0.78 - ETA: 2:18 - loss: 0.4491 - accuracy: 0.78 - ETA: 2:16 - loss: 0.4494 - accuracy: 0.78 - ETA: 2:14 - loss: 0.4490 - accuracy: 0.78 - ETA: 2:13 - loss: 0.4497 - accuracy: 0.78 - ETA: 2:11 - loss: 0.4495 - accuracy: 0.78 - ETA: 2:09 - loss: 0.4494 - accuracy: 0.78 - ETA: 2:07 - loss: 0.4488 - accuracy: 0.79 - ETA: 2:05 - loss: 0.4491 - accuracy: 0.78 - ETA: 2:04 - loss: 0.4489 - accuracy: 0.79 - ETA: 2:02 - loss: 0.4490 - accuracy: 0.79 - ETA: 2:00 - loss: 0.4490 - accuracy: 0.79 - ETA: 1:58 - loss: 0.4490 - accuracy: 0.78 - ETA: 1:56 - loss: 0.4493 - accuracy: 0.7898250/250 [==============================] - ETA: 1:55 - loss: 0.4493 - accuracy: 0.78 - ETA: 1:53 - loss: 0.4494 - accuracy: 0.78 - ETA: 1:51 - loss: 0.4491 - accuracy: 0.79 - ETA: 1:49 - loss: 0.4487 - accuracy: 0.79 - ETA: 1:47 - loss: 0.4485 - accuracy: 0.79 - ETA: 1:45 - loss: 0.4485 - accuracy: 0.79 - ETA: 1:44 - loss: 0.4485 - accuracy: 0.79 - ETA: 1:42 - loss: 0.4483 - accuracy: 0.79 - ETA: 1:40 - loss: 0.4479 - accuracy: 0.79 - ETA: 1:38 - loss: 0.4480 - accuracy: 0.79 - ETA: 1:36 - loss: 0.4477 - accuracy: 0.79 - ETA: 1:34 - loss: 0.4471 - accuracy: 0.79 - ETA: 1:33 - loss: 0.4467 - accuracy: 0.79 - ETA: 1:31 - loss: 0.4466 - accuracy: 0.79 - ETA: 1:29 - loss: 0.4466 - accuracy: 0.79 - ETA: 1:27 - loss: 0.4471 - accuracy: 0.79 - ETA: 1:25 - loss: 0.4472 - accuracy: 0.79 - ETA: 1:23 - loss: 0.4470 - accuracy: 0.79 - ETA: 1:22 - loss: 0.4469 - accuracy: 0.79 - ETA: 1:20 - loss: 0.4460 - accuracy: 0.79 - ETA: 1:18 - loss: 0.4463 - accuracy: 0.79 - ETA: 1:16 - loss: 0.4459 - accuracy: 0.79 - ETA: 1:14 - loss: 0.4457 - accuracy: 0.79 - ETA: 1:13 - loss: 0.4457 - accuracy: 0.79 - ETA: 1:11 - loss: 0.4453 - accuracy: 0.79 - ETA: 1:09 - loss: 0.4452 - accuracy: 0.79 - ETA: 1:07 - loss: 0.4451 - accuracy: 0.79 - ETA: 1:05 - loss: 0.4450 - accuracy: 0.79 - ETA: 1:03 - loss: 0.4453 - accuracy: 0.79 - ETA: 1:02 - loss: 0.4450 - accuracy: 0.79 - ETA: 1:00 - loss: 0.4448 - accuracy: 0.79 - ETA: 58s - loss: 0.4446 - accuracy: 0.7928 - ETA: 56s - loss: 0.4447 - accuracy: 0.792 - ETA: 54s - loss: 0.4446 - accuracy: 0.792 - ETA: 52s - loss: 0.4449 - accuracy: 0.792 - ETA: 51s - loss: 0.4454 - accuracy: 0.792 - ETA: 49s - loss: 0.4453 - accuracy: 0.792 - ETA: 47s - loss: 0.4452 - accuracy: 0.792 - ETA: 45s - loss: 0.4454 - accuracy: 0.792 - ETA: 43s - loss: 0.4452 - accuracy: 0.792 - ETA: 41s - loss: 0.4449 - accuracy: 0.792 - ETA: 40s - loss: 0.4451 - accuracy: 0.792 - ETA: 38s - loss: 0.4451 - accuracy: 0.792 - ETA: 36s - loss: 0.4449 - accuracy: 0.792 - ETA: 34s - loss: 0.4445 - accuracy: 0.792 - ETA: 32s - loss: 0.4443 - accuracy: 0.792 - ETA: 31s - loss: 0.4442 - accuracy: 0.792 - ETA: 29s - loss: 0.4446 - accuracy: 0.792 - ETA: 27s - loss: 0.4444 - accuracy: 0.792 - ETA: 25s - loss: 0.4445 - accuracy: 0.792 - ETA: 23s - loss: 0.4442 - accuracy: 0.792 - ETA: 21s - loss: 0.4444 - accuracy: 0.792 - ETA: 20s - loss: 0.4442 - accuracy: 0.792 - ETA: 18s - loss: 0.4440 - accuracy: 0.792 - ETA: 16s - loss: 0.4438 - accuracy: 0.792 - ETA: 14s - loss: 0.4442 - accuracy: 0.792 - ETA: 12s - loss: 0.4443 - accuracy: 0.792 - ETA: 10s - loss: 0.4443 - accuracy: 0.792 - ETA: 9s - loss: 0.4440 - accuracy: 0.792 - ETA: 7s - loss: 0.4437 - accuracy: 0.79 - ETA: 5s - loss: 0.4434 - accuracy: 0.79 - ETA: 3s - loss: 0.4430 - accuracy: 0.79 - ETA: 1s - loss: 0.4432 - accuracy: 0.79 - ETA: 0s - loss: 0.4437 - accuracy: 0.79 - 457s 2s/step - loss: 0.4437 - accuracy: 0.7931\n"
     ]
    },
    {
     "data": {
      "text/plain": [
       "<tensorflow.python.keras.callbacks.History at 0x20986314148>"
      ]
     },
     "execution_count": 14,
     "metadata": {},
     "output_type": "execute_result"
    }
   ],
   "source": [
    "model.fit(x_train,y_train, epochs=3, batch_size=100)"
   ]
  },
  {
   "cell_type": "code",
   "execution_count": 15,
   "metadata": {},
   "outputs": [
    {
     "name": "stdout",
     "output_type": "stream",
     "text": [
      "186/250 [=====================>........] - ETA: 0s - loss: 0.4899 - accuracy: 0.80 - ETA: 2:36 - loss: 0.4769 - accuracy: 0.77 - ETA: 3:14 - loss: 0.4550 - accuracy: 0.78 - ETA: 3:31 - loss: 0.4313 - accuracy: 0.81 - ETA: 3:41 - loss: 0.4265 - accuracy: 0.80 - ETA: 3:48 - loss: 0.4128 - accuracy: 0.81 - ETA: 3:50 - loss: 0.4028 - accuracy: 0.81 - ETA: 3:54 - loss: 0.3982 - accuracy: 0.82 - ETA: 3:55 - loss: 0.3936 - accuracy: 0.82 - ETA: 3:57 - loss: 0.3884 - accuracy: 0.82 - ETA: 3:58 - loss: 0.3955 - accuracy: 0.82 - ETA: 3:59 - loss: 0.3942 - accuracy: 0.82 - ETA: 3:58 - loss: 0.3973 - accuracy: 0.82 - ETA: 3:58 - loss: 0.3971 - accuracy: 0.82 - ETA: 3:57 - loss: 0.3898 - accuracy: 0.82 - ETA: 3:57 - loss: 0.3905 - accuracy: 0.82 - ETA: 3:57 - loss: 0.3886 - accuracy: 0.82 - ETA: 3:56 - loss: 0.3904 - accuracy: 0.82 - ETA: 3:55 - loss: 0.3890 - accuracy: 0.82 - ETA: 3:55 - loss: 0.3904 - accuracy: 0.82 - ETA: 3:55 - loss: 0.3869 - accuracy: 0.82 - ETA: 3:55 - loss: 0.3825 - accuracy: 0.83 - ETA: 3:54 - loss: 0.3832 - accuracy: 0.83 - ETA: 3:53 - loss: 0.3855 - accuracy: 0.83 - ETA: 3:52 - loss: 0.3853 - accuracy: 0.83 - ETA: 3:51 - loss: 0.3833 - accuracy: 0.83 - ETA: 3:51 - loss: 0.3840 - accuracy: 0.83 - ETA: 3:50 - loss: 0.3858 - accuracy: 0.83 - ETA: 3:49 - loss: 0.3877 - accuracy: 0.82 - ETA: 3:48 - loss: 0.3919 - accuracy: 0.82 - ETA: 3:47 - loss: 0.3926 - accuracy: 0.82 - ETA: 3:46 - loss: 0.3925 - accuracy: 0.82 - ETA: 3:46 - loss: 0.3914 - accuracy: 0.82 - ETA: 3:45 - loss: 0.3907 - accuracy: 0.82 - ETA: 3:44 - loss: 0.3893 - accuracy: 0.82 - ETA: 3:43 - loss: 0.3896 - accuracy: 0.82 - ETA: 3:42 - loss: 0.3883 - accuracy: 0.82 - ETA: 3:42 - loss: 0.3878 - accuracy: 0.82 - ETA: 3:41 - loss: 0.3879 - accuracy: 0.82 - ETA: 3:39 - loss: 0.3868 - accuracy: 0.82 - ETA: 3:38 - loss: 0.3842 - accuracy: 0.82 - ETA: 3:37 - loss: 0.3837 - accuracy: 0.82 - ETA: 3:36 - loss: 0.3843 - accuracy: 0.82 - ETA: 3:34 - loss: 0.3829 - accuracy: 0.82 - ETA: 3:33 - loss: 0.3818 - accuracy: 0.82 - ETA: 3:32 - loss: 0.3829 - accuracy: 0.82 - ETA: 3:31 - loss: 0.3851 - accuracy: 0.82 - ETA: 3:30 - loss: 0.3861 - accuracy: 0.82 - ETA: 3:29 - loss: 0.3861 - accuracy: 0.82 - ETA: 3:27 - loss: 0.3865 - accuracy: 0.82 - ETA: 3:26 - loss: 0.3873 - accuracy: 0.82 - ETA: 3:25 - loss: 0.3885 - accuracy: 0.82 - ETA: 3:24 - loss: 0.3894 - accuracy: 0.82 - ETA: 3:23 - loss: 0.3893 - accuracy: 0.82 - ETA: 3:21 - loss: 0.3875 - accuracy: 0.82 - ETA: 3:20 - loss: 0.3871 - accuracy: 0.82 - ETA: 3:19 - loss: 0.3873 - accuracy: 0.82 - ETA: 3:18 - loss: 0.3869 - accuracy: 0.82 - ETA: 3:17 - loss: 0.3856 - accuracy: 0.82 - ETA: 3:15 - loss: 0.3859 - accuracy: 0.82 - ETA: 3:14 - loss: 0.3873 - accuracy: 0.82 - ETA: 3:13 - loss: 0.3866 - accuracy: 0.82 - ETA: 3:12 - loss: 0.3870 - accuracy: 0.82 - ETA: 3:11 - loss: 0.3864 - accuracy: 0.82 - ETA: 3:10 - loss: 0.3867 - accuracy: 0.82 - ETA: 3:09 - loss: 0.3861 - accuracy: 0.82 - ETA: 3:08 - loss: 0.3853 - accuracy: 0.82 - ETA: 3:07 - loss: 0.3838 - accuracy: 0.83 - ETA: 3:06 - loss: 0.3854 - accuracy: 0.82 - ETA: 3:04 - loss: 0.3851 - accuracy: 0.82 - ETA: 3:03 - loss: 0.3850 - accuracy: 0.82 - ETA: 3:02 - loss: 0.3861 - accuracy: 0.82 - ETA: 3:01 - loss: 0.3860 - accuracy: 0.82 - ETA: 3:00 - loss: 0.3869 - accuracy: 0.82 - ETA: 2:59 - loss: 0.3863 - accuracy: 0.82 - ETA: 2:58 - loss: 0.3848 - accuracy: 0.83 - ETA: 2:57 - loss: 0.3851 - accuracy: 0.83 - ETA: 2:56 - loss: 0.3850 - accuracy: 0.83 - ETA: 2:55 - loss: 0.3852 - accuracy: 0.82 - ETA: 2:54 - loss: 0.3847 - accuracy: 0.83 - ETA: 2:53 - loss: 0.3865 - accuracy: 0.82 - ETA: 2:52 - loss: 0.3865 - accuracy: 0.82 - ETA: 2:51 - loss: 0.3871 - accuracy: 0.82 - ETA: 2:50 - loss: 0.3881 - accuracy: 0.82 - ETA: 2:49 - loss: 0.3875 - accuracy: 0.82 - ETA: 2:48 - loss: 0.3871 - accuracy: 0.82 - ETA: 2:47 - loss: 0.3867 - accuracy: 0.83 - ETA: 2:46 - loss: 0.3862 - accuracy: 0.83 - ETA: 2:45 - loss: 0.3866 - accuracy: 0.83 - ETA: 2:45 - loss: 0.3871 - accuracy: 0.83 - ETA: 2:43 - loss: 0.3871 - accuracy: 0.83 - ETA: 2:43 - loss: 0.3872 - accuracy: 0.83 - ETA: 2:42 - loss: 0.3874 - accuracy: 0.83 - ETA: 2:41 - loss: 0.3879 - accuracy: 0.82 - ETA: 2:40 - loss: 0.3874 - accuracy: 0.82 - ETA: 2:39 - loss: 0.3877 - accuracy: 0.82 - ETA: 2:37 - loss: 0.3886 - accuracy: 0.82 - ETA: 2:37 - loss: 0.3884 - accuracy: 0.82 - ETA: 2:36 - loss: 0.3891 - accuracy: 0.82 - ETA: 2:35 - loss: 0.3895 - accuracy: 0.82 - ETA: 2:34 - loss: 0.3897 - accuracy: 0.82 - ETA: 2:33 - loss: 0.3907 - accuracy: 0.82 - ETA: 2:32 - loss: 0.3905 - accuracy: 0.82 - ETA: 2:31 - loss: 0.3903 - accuracy: 0.82 - ETA: 2:30 - loss: 0.3891 - accuracy: 0.82 - ETA: 2:29 - loss: 0.3892 - accuracy: 0.82 - ETA: 2:28 - loss: 0.3904 - accuracy: 0.82 - ETA: 2:27 - loss: 0.3911 - accuracy: 0.82 - ETA: 2:26 - loss: 0.3910 - accuracy: 0.82 - ETA: 2:25 - loss: 0.3911 - accuracy: 0.82 - ETA: 2:24 - loss: 0.3907 - accuracy: 0.82 - ETA: 2:23 - loss: 0.3908 - accuracy: 0.82 - ETA: 2:22 - loss: 0.3907 - accuracy: 0.82 - ETA: 2:21 - loss: 0.3904 - accuracy: 0.82 - ETA: 2:20 - loss: 0.3902 - accuracy: 0.82 - ETA: 2:19 - loss: 0.3899 - accuracy: 0.82 - ETA: 2:18 - loss: 0.3899 - accuracy: 0.82 - ETA: 2:17 - loss: 0.3900 - accuracy: 0.82 - ETA: 2:15 - loss: 0.3900 - accuracy: 0.82 - ETA: 2:14 - loss: 0.3900 - accuracy: 0.82 - ETA: 2:13 - loss: 0.3894 - accuracy: 0.82 - ETA: 2:12 - loss: 0.3890 - accuracy: 0.82 - ETA: 2:11 - loss: 0.3889 - accuracy: 0.82 - ETA: 2:10 - loss: 0.3887 - accuracy: 0.82 - ETA: 2:09 - loss: 0.3886 - accuracy: 0.82 - ETA: 2:08 - loss: 0.3882 - accuracy: 0.82 - ETA: 2:07 - loss: 0.3881 - accuracy: 0.82 - ETA: 2:06 - loss: 0.3877 - accuracy: 0.82 - ETA: 2:05 - loss: 0.3877 - accuracy: 0.82 - ETA: 2:04 - loss: 0.3880 - accuracy: 0.82 - ETA: 2:03 - loss: 0.3884 - accuracy: 0.82 - ETA: 2:02 - loss: 0.3890 - accuracy: 0.82 - ETA: 2:00 - loss: 0.3889 - accuracy: 0.82 - ETA: 1:59 - loss: 0.3887 - accuracy: 0.82 - ETA: 1:58 - loss: 0.3886 - accuracy: 0.82 - ETA: 1:57 - loss: 0.3881 - accuracy: 0.82 - ETA: 1:56 - loss: 0.3880 - accuracy: 0.82 - ETA: 1:55 - loss: 0.3874 - accuracy: 0.82 - ETA: 1:54 - loss: 0.3870 - accuracy: 0.82 - ETA: 1:53 - loss: 0.3874 - accuracy: 0.82 - ETA: 1:52 - loss: 0.3871 - accuracy: 0.82 - ETA: 1:51 - loss: 0.3869 - accuracy: 0.82 - ETA: 1:50 - loss: 0.3872 - accuracy: 0.82 - ETA: 1:49 - loss: 0.3866 - accuracy: 0.82 - ETA: 1:48 - loss: 0.3862 - accuracy: 0.82 - ETA: 1:47 - loss: 0.3861 - accuracy: 0.82 - ETA: 1:46 - loss: 0.3865 - accuracy: 0.82 - ETA: 1:45 - loss: 0.3865 - accuracy: 0.82 - ETA: 1:44 - loss: 0.3864 - accuracy: 0.82 - ETA: 1:43 - loss: 0.3871 - accuracy: 0.82 - ETA: 1:41 - loss: 0.3868 - accuracy: 0.82 - ETA: 1:40 - loss: 0.3870 - accuracy: 0.82 - ETA: 1:39 - loss: 0.3870 - accuracy: 0.82 - ETA: 1:38 - loss: 0.3875 - accuracy: 0.82 - ETA: 1:37 - loss: 0.3877 - accuracy: 0.82 - ETA: 1:36 - loss: 0.3874 - accuracy: 0.82 - ETA: 1:35 - loss: 0.3874 - accuracy: 0.82 - ETA: 1:34 - loss: 0.3876 - accuracy: 0.82 - ETA: 1:33 - loss: 0.3878 - accuracy: 0.82 - ETA: 1:32 - loss: 0.3880 - accuracy: 0.82 - ETA: 1:31 - loss: 0.3883 - accuracy: 0.82 - ETA: 1:30 - loss: 0.3892 - accuracy: 0.82 - ETA: 1:29 - loss: 0.3888 - accuracy: 0.82 - ETA: 1:28 - loss: 0.3886 - accuracy: 0.82 - ETA: 1:27 - loss: 0.3888 - accuracy: 0.82 - ETA: 1:26 - loss: 0.3889 - accuracy: 0.82 - ETA: 1:25 - loss: 0.3895 - accuracy: 0.82 - ETA: 1:24 - loss: 0.3895 - accuracy: 0.82 - ETA: 1:23 - loss: 0.3899 - accuracy: 0.82 - ETA: 1:22 - loss: 0.3903 - accuracy: 0.82 - ETA: 1:21 - loss: 0.3907 - accuracy: 0.82 - ETA: 1:19 - loss: 0.3913 - accuracy: 0.82 - ETA: 1:18 - loss: 0.3915 - accuracy: 0.82 - ETA: 1:17 - loss: 0.3918 - accuracy: 0.82 - ETA: 1:16 - loss: 0.3918 - accuracy: 0.82 - ETA: 1:15 - loss: 0.3917 - accuracy: 0.82 - ETA: 1:14 - loss: 0.3916 - accuracy: 0.82 - ETA: 1:13 - loss: 0.3914 - accuracy: 0.82 - ETA: 1:12 - loss: 0.3913 - accuracy: 0.82 - ETA: 1:11 - loss: 0.3911 - accuracy: 0.82 - ETA: 1:10 - loss: 0.3911 - accuracy: 0.82 - ETA: 1:09 - loss: 0.3910 - accuracy: 0.82 - ETA: 1:08 - loss: 0.3911 - accuracy: 0.82 - ETA: 1:07 - loss: 0.3908 - accuracy: 0.82 - ETA: 1:06 - loss: 0.3910 - accuracy: 0.82 - ETA: 1:05 - loss: 0.3910 - accuracy: 0.8256"
     ]
    },
    {
     "name": "stdout",
     "output_type": "stream",
     "text": [
      "250/250 [==============================] - ETA: 1:04 - loss: 0.3910 - accuracy: 0.82 - ETA: 1:03 - loss: 0.3908 - accuracy: 0.82 - ETA: 1:02 - loss: 0.3905 - accuracy: 0.82 - ETA: 1:01 - loss: 0.3906 - accuracy: 0.82 - ETA: 1:00 - loss: 0.3908 - accuracy: 0.82 - ETA: 59s - loss: 0.3909 - accuracy: 0.8260 - ETA: 58s - loss: 0.3907 - accuracy: 0.826 - ETA: 57s - loss: 0.3909 - accuracy: 0.825 - ETA: 56s - loss: 0.3907 - accuracy: 0.825 - ETA: 55s - loss: 0.3905 - accuracy: 0.826 - ETA: 54s - loss: 0.3907 - accuracy: 0.825 - ETA: 52s - loss: 0.3905 - accuracy: 0.826 - ETA: 51s - loss: 0.3902 - accuracy: 0.826 - ETA: 50s - loss: 0.3904 - accuracy: 0.826 - ETA: 49s - loss: 0.3905 - accuracy: 0.826 - ETA: 48s - loss: 0.3900 - accuracy: 0.826 - ETA: 47s - loss: 0.3899 - accuracy: 0.826 - ETA: 46s - loss: 0.3904 - accuracy: 0.826 - ETA: 45s - loss: 0.3910 - accuracy: 0.826 - ETA: 44s - loss: 0.3915 - accuracy: 0.825 - ETA: 43s - loss: 0.3912 - accuracy: 0.826 - ETA: 42s - loss: 0.3911 - accuracy: 0.826 - ETA: 41s - loss: 0.3915 - accuracy: 0.825 - ETA: 40s - loss: 0.3916 - accuracy: 0.825 - ETA: 39s - loss: 0.3920 - accuracy: 0.825 - ETA: 38s - loss: 0.3916 - accuracy: 0.825 - ETA: 37s - loss: 0.3919 - accuracy: 0.826 - ETA: 36s - loss: 0.3920 - accuracy: 0.826 - ETA: 35s - loss: 0.3923 - accuracy: 0.825 - ETA: 34s - loss: 0.3918 - accuracy: 0.826 - ETA: 33s - loss: 0.3915 - accuracy: 0.826 - ETA: 32s - loss: 0.3911 - accuracy: 0.826 - ETA: 31s - loss: 0.3911 - accuracy: 0.826 - ETA: 30s - loss: 0.3911 - accuracy: 0.826 - ETA: 29s - loss: 0.3911 - accuracy: 0.826 - ETA: 28s - loss: 0.3906 - accuracy: 0.826 - ETA: 27s - loss: 0.3905 - accuracy: 0.826 - ETA: 26s - loss: 0.3905 - accuracy: 0.826 - ETA: 25s - loss: 0.3908 - accuracy: 0.826 - ETA: 24s - loss: 0.3907 - accuracy: 0.826 - ETA: 23s - loss: 0.3909 - accuracy: 0.826 - ETA: 22s - loss: 0.3910 - accuracy: 0.826 - ETA: 21s - loss: 0.3909 - accuracy: 0.826 - ETA: 20s - loss: 0.3907 - accuracy: 0.826 - ETA: 19s - loss: 0.3912 - accuracy: 0.826 - ETA: 18s - loss: 0.3907 - accuracy: 0.826 - ETA: 17s - loss: 0.3908 - accuracy: 0.826 - ETA: 16s - loss: 0.3911 - accuracy: 0.826 - ETA: 15s - loss: 0.3910 - accuracy: 0.826 - ETA: 14s - loss: 0.3906 - accuracy: 0.826 - ETA: 13s - loss: 0.3908 - accuracy: 0.826 - ETA: 12s - loss: 0.3908 - accuracy: 0.826 - ETA: 11s - loss: 0.3908 - accuracy: 0.826 - ETA: 10s - loss: 0.3905 - accuracy: 0.826 - ETA: 9s - loss: 0.3905 - accuracy: 0.826 - ETA: 8s - loss: 0.3904 - accuracy: 0.82 - ETA: 7s - loss: 0.3903 - accuracy: 0.82 - ETA: 6s - loss: 0.3905 - accuracy: 0.82 - ETA: 5s - loss: 0.3906 - accuracy: 0.82 - ETA: 4s - loss: 0.3906 - accuracy: 0.82 - ETA: 3s - loss: 0.3908 - accuracy: 0.82 - ETA: 2s - loss: 0.3912 - accuracy: 0.82 - ETA: 1s - loss: 0.3910 - accuracy: 0.82 - ETA: 0s - loss: 0.3910 - accuracy: 0.82 - 254s 1s/step - loss: 0.3910 - accuracy: 0.8258\n"
     ]
    },
    {
     "data": {
      "text/plain": [
       "<tensorflow.python.keras.callbacks.History at 0x20987a76408>"
      ]
     },
     "execution_count": 15,
     "metadata": {},
     "output_type": "execute_result"
    }
   ],
   "source": [
    "model.fit(x_train,y_train, epochs=1, batch_size=100)"
   ]
  },
  {
   "cell_type": "code",
   "execution_count": null,
   "metadata": {},
   "outputs": [],
   "source": []
  },
  {
   "cell_type": "code",
   "execution_count": null,
   "metadata": {},
   "outputs": [],
   "source": [
    "#導入測試資料並整理"
   ]
  },
  {
   "cell_type": "code",
   "execution_count": 16,
   "metadata": {},
   "outputs": [],
   "source": [
    "x_test=[]\n",
    "path=os.path.join(\"test1\")\n",
    "\n",
    "for i in os.listdir(path):\n",
    "    img=cv2.imread(os.path.join(path,i),cv2.IMREAD_GRAYSCALE)\n",
    "    nimg=cv2.resize(img,dsize=(150,150))\n",
    "    x_test.append(nimg)\n"
   ]
  },
  {
   "cell_type": "code",
   "execution_count": 17,
   "metadata": {},
   "outputs": [],
   "source": [
    "x_test=np.array(x_test).reshape(-1,150,150,1)\n",
    "x_test=x_test/255"
   ]
  },
  {
   "cell_type": "code",
   "execution_count": 18,
   "metadata": {},
   "outputs": [
    {
     "name": "stdout",
     "output_type": "stream",
     "text": [
      "WARNING:tensorflow:From <ipython-input-18-63af5bb2f9b6>:1: Sequential.predict_classes (from tensorflow.python.keras.engine.sequential) is deprecated and will be removed after 2021-01-01.\n",
      "Instructions for updating:\n",
      "Please use instead:* `np.argmax(model.predict(x), axis=-1)`,   if your model does multi-class classification   (e.g. if it uses a `softmax` last-layer activation).* `(model.predict(x) > 0.5).astype(\"int32\")`,   if your model does binary classification   (e.g. if it uses a `sigmoid` last-layer activation).\n"
     ]
    }
   ],
   "source": [
    "result = model.predict_classes(x_test)"
   ]
  },
  {
   "cell_type": "code",
   "execution_count": 21,
   "metadata": {},
   "outputs": [],
   "source": [
    "def my_predict(n):\n",
    "    if result[n]==int(0):\n",
    "        a='狗'\n",
    "    else:\n",
    "        a='貓'\n",
    "    print('我可愛的 CNN 預測是', a)\n",
    "    X = x_test[n].reshape(150,150)\n",
    "    \n",
    "    plt.imshow(X)"
   ]
  },
  {
   "cell_type": "code",
   "execution_count": 28,
   "metadata": {},
   "outputs": [
    {
     "name": "stdout",
     "output_type": "stream",
     "text": [
      "我可愛的 CNN 預測是 貓\n"
     ]
    },
    {
     "data": {
      "image/png": "[encoded data removed]",
      "text/plain": [
       "<Figure size 432x288 with 1 Axes>"
      ]
     },
     "metadata": {
      "needs_background": "light"
     },
     "output_type": "display_data"
    }
   ],
   "source": [
    "my_predict(87)"
   ]
  },
  {
   "cell_type": "code",
   "execution_count": null,
   "metadata": {},
   "outputs": [],
   "source": []
  },
  {
   "cell_type": "code",
   "execution_count": null,
   "metadata": {},
   "outputs": [],
   "source": [
    "path='train'\n",
    "cats =  []\n",
    "label_cats = []\n",
    "dogs = []\n",
    "label_dogs = []\n",
    "for file in os.listdir(path):\n",
    "    name = file.split(sep='.')\n",
    "    if name[0]=='cat':\n",
    "        cats.append(file)\n",
    "        label_cats.append(0)\n",
    "    else:\n",
    "        dogs.append(file)\n",
    "        label_dogs.append(1)\n",
    "\n"
   ]
  },
  {
   "cell_type": "code",
   "execution_count": null,
   "metadata": {},
   "outputs": [],
   "source": [
    "print(cats,label_cats)\n",
    "print(dogs,label_dogs)"
   ]
  },
  {
   "cell_type": "code",
   "execution_count": null,
   "metadata": {},
   "outputs": [],
   "source": [
    "image_list = np.hstack((cats, dogs))#將貓狗圖片堆積起來\n",
    "label_list = np.hstack((label_cats,label_dogs))#label也堆積起來\n"
   ]
  },
  {
   "cell_type": "code",
   "execution_count": null,
   "metadata": {},
   "outputs": [],
   "source": [
    "print(cats,label_cats)\n",
    "print(dogs,label_dogs)"
   ]
  },
  {
   "cell_type": "code",
   "execution_count": null,
   "metadata": {},
   "outputs": [],
   "source": [
    "temp = np.array([image_list,label_list])#\n",
    "temp = temp.transpose()#轉置矩陣\n",
    "np.random.shuffle(temp)#打亂資料\n",
    "image_list = list(temp[:,0])\n",
    "label_list = list(temp[:,1])\n",
    "label_list = [int(i) for i in label_list]"
   ]
  },
  {
   "cell_type": "code",
   "execution_count": null,
   "metadata": {},
   "outputs": [],
   "source": []
  },
  {
   "cell_type": "code",
   "execution_count": null,
   "metadata": {},
   "outputs": [],
   "source": []
  },
  {
   "cell_type": "code",
   "execution_count": null,
   "metadata": {},
   "outputs": [],
   "source": []
  }
 ],
 "metadata": {
  "kernelspec": {
   "display_name": "Python 3",
   "language": "python",
   "name": "python3"
  },
  "language_info": {
   "codemirror_mode": {
    "name": "ipython",
    "version": 3
   },
   "file_extension": ".py",
   "mimetype": "text/x-python",
   "name": "python",
   "nbconvert_exporter": "python",
   "pygments_lexer": "ipython3",
   "version": "3.7.4"
  }
 },
 "nbformat": 4,
 "nbformat_minor": 2
}
