{
 "cells": [
  {
   "cell_type": "code",
   "execution_count": 34,
   "metadata": {},
   "outputs": [],
   "source": [
    "%matplotlib inline\n",
    "\n",
    "import numpy as np\n",
    "import matplotlib.pyplot as plt\n",
    "import pandas as pd\n",
    "import tensorflow as tf\n",
    "from tensorflow.keras.models import Sequential\n",
    "from tensorflow.keras.layers import Conv2D, MaxPooling2D\n",
    "from tensorflow.keras.layers import Dense, Flatten\n",
    "from tensorflow.keras.optimizers import SGD\n",
    "import os\n",
    "import cv2\n",
    "import random"
   ]
  },
  {
   "cell_type": "code",
   "execution_count": 25,
   "metadata": {},
   "outputs": [
    {
     "name": "stdout",
     "output_type": "stream",
     "text": [
      "there are 4 cats\n",
      "there are 4 dogs\n"
     ]
    }
   ],
   "source": [
    "#%%\n",
    "file_dir='train'\n",
    "cats =  []\n",
    "label_cats = []\n",
    "dogs = []\n",
    "label_dogs = []\n",
    "for file in os.listdir(file_dir):#返回這個路徑下所有檔案的名字\n",
    "    name = file.split(sep='.')\n",
    "    if name[0]=='cat':\n",
    "        cats.append(file)\n",
    "        label_cats.append(0)\n",
    "    else:\n",
    "        dogs.append(file)\n",
    "        label_dogs.append(1)\n",
    "print('there are %d cats\\nthere are %d dogs' %(len(cats),len(dogs)))\n",
    "image_list = np.hstack((cats, dogs))#將貓狗圖片堆積起來\n",
    "label_list = np.hstack((label_cats,label_dogs))#label也堆積起來\n",
    "temp = np.array([image_list,label_list])\n",
    "temp = temp.transpose()\n",
    "np.random.shuffle(temp)#打亂資料\n",
    "image_list = list(temp[:,0])\n",
    "label_list = list(temp[:,1])\n",
    "\n"
   ]
  },
  {
   "cell_type": "code",
   "execution_count": 29,
   "metadata": {},
   "outputs": [],
   "source": [
    "label_list = [int(i) for i in label_list]"
   ]
  },
  {
   "cell_type": "code",
   "execution_count": 20,
   "metadata": {},
   "outputs": [
    {
     "name": "stdout",
     "output_type": "stream",
     "text": [
      "['cat.0.jpg', 'cat.1.jpg', 'cat.2.jpg', 'cat.3.jpg'] [0, 0, 0, 0]\n",
      "['dog.0.jpg', 'dog.1.jpg', 'dog.2.jpg', 'dog.3.jpg'] [1, 1, 1, 1]\n"
     ]
    }
   ],
   "source": [
    "print(cats,label_cats)\n",
    "print(dogs,label_dogs)"
   ]
  },
  {
   "cell_type": "code",
   "execution_count": 15,
   "metadata": {},
   "outputs": [
    {
     "name": "stdout",
     "output_type": "stream",
     "text": [
      "[0 0 0 0 1 1 1 1]\n",
      "['cat.0.jpg' 'cat.1.jpg' 'cat.2.jpg' 'cat.3.jpg' 'dog.0.jpg' 'dog.1.jpg'\n",
      " 'dog.2.jpg' 'dog.3.jpg']\n"
     ]
    }
   ],
   "source": [
    "print(label_list)\n",
    "print(image_list)"
   ]
  },
  {
   "cell_type": "code",
   "execution_count": 17,
   "metadata": {},
   "outputs": [
    {
     "name": "stdout",
     "output_type": "stream",
     "text": [
      "[['cat.0.jpg' 'cat.1.jpg' 'cat.2.jpg' 'cat.3.jpg' 'dog.0.jpg' 'dog.1.jpg'\n",
      "  'dog.2.jpg' 'dog.3.jpg']\n",
      " ['0' '0' '0' '0' '1' '1' '1' '1']]\n"
     ]
    }
   ],
   "source": [
    "print(temp)"
   ]
  },
  {
   "cell_type": "code",
   "execution_count": 19,
   "metadata": {},
   "outputs": [
    {
     "name": "stdout",
     "output_type": "stream",
     "text": [
      "[['cat.0.jpg' '0']\n",
      " ['cat.1.jpg' '0']\n",
      " ['cat.2.jpg' '0']\n",
      " ['cat.3.jpg' '0']\n",
      " ['dog.0.jpg' '1']\n",
      " ['dog.1.jpg' '1']\n",
      " ['dog.2.jpg' '1']\n",
      " ['dog.3.jpg' '1']]\n"
     ]
    }
   ],
   "source": [
    "print(temp)"
   ]
  },
  {
   "cell_type": "code",
   "execution_count": 27,
   "metadata": {},
   "outputs": [
    {
     "name": "stdout",
     "output_type": "stream",
     "text": [
      "[['dog.1.jpg' '1']\n",
      " ['cat.2.jpg' '0']\n",
      " ['cat.1.jpg' '0']\n",
      " ['cat.3.jpg' '0']\n",
      " ['dog.3.jpg' '1']\n",
      " ['dog.2.jpg' '1']\n",
      " ['dog.0.jpg' '1']\n",
      " ['cat.0.jpg' '0']]\n"
     ]
    }
   ],
   "source": [
    "print(temp)"
   ]
  },
  {
   "cell_type": "code",
   "execution_count": 32,
   "metadata": {},
   "outputs": [
    {
     "name": "stdout",
     "output_type": "stream",
     "text": [
      "['dog.1.jpg', 'cat.2.jpg', 'cat.1.jpg', 'cat.3.jpg', 'dog.3.jpg', 'dog.2.jpg', 'dog.0.jpg', 'cat.0.jpg']\n"
     ]
    }
   ],
   "source": [
    "print(image_list)"
   ]
  },
  {
   "cell_type": "code",
   "execution_count": 26,
   "metadata": {},
   "outputs": [
    {
     "name": "stdout",
     "output_type": "stream",
     "text": [
      "['1', '0', '0', '0', '1', '1', '1', '0']\n"
     ]
    }
   ],
   "source": [
    "print(label_list)"
   ]
  },
  {
   "cell_type": "code",
   "execution_count": 31,
   "metadata": {},
   "outputs": [
    {
     "name": "stdout",
     "output_type": "stream",
     "text": [
      "[1, 0, 0, 0, 1, 1, 1, 0]\n"
     ]
    }
   ],
   "source": [
    "print(label_list)"
   ]
  },
  {
   "cell_type": "code",
   "execution_count": 41,
   "metadata": {},
   "outputs": [
    {
     "name": "stdout",
     "output_type": "stream",
     "text": [
      "['dog.1.jpg', 'cat.2.jpg', 'cat.1.jpg', 'cat.3.jpg', 'dog.3.jpg', 'dog.2.jpg', 'dog.0.jpg', 'cat.0.jpg']\n"
     ]
    }
   ],
   "source": [
    "print(image_list)"
   ]
  },
  {
   "cell_type": "code",
   "execution_count": 42,
   "metadata": {},
   "outputs": [],
   "source": [
    "x_train=[]\n",
    "y_train=label_list\n",
    "path=os.path.join('train')\n",
    "for j in image_list:\n",
    "    img=cv2.imread(os.path.join(path,j),cv2.IMREAD_GRAYSCALE)\n",
    "    nimg=cv2.resize(img,dsize=(150,150))\n",
    "    x_train.append(nimg)"
   ]
  },
  {
   "cell_type": "code",
   "execution_count": 45,
   "metadata": {
    "scrolled": true
   },
   "outputs": [
    {
     "name": "stdout",
     "output_type": "stream",
     "text": [
      "[array([[ 54,  54,  57, ..., 109, 108, 106],\n",
      "       [ 55,  55,  58, ..., 123, 122, 120],\n",
      "       [ 55,  56,  61, ..., 136, 133, 131],\n",
      "       ...,\n",
      "       [230, 216, 220, ..., 123, 121, 118],\n",
      "       [222, 220, 231, ..., 123, 118, 113],\n",
      "       [222, 222, 212, ..., 121, 116, 109]], dtype=uint8), array([[ 62,  59,  50, ...,   7,   7,   7],\n",
      "       [ 58,  62,  56, ...,   7,   7,   7],\n",
      "       [ 59,  65,  64, ...,   7,   7,   7],\n",
      "       ...,\n",
      "       [ 57,  53,  67, ..., 240, 234, 234],\n",
      "       [ 58,  53,  61, ..., 239, 237, 237],\n",
      "       [ 59,  51,  58, ..., 237, 238, 238]], dtype=uint8), array([[ 44,  45,  44, ...,   2,   4,   4],\n",
      "       [ 43,  45,  48, ...,   4,   4,   4],\n",
      "       [ 42,  45,  48, ...,   4,   4,   4],\n",
      "       ...,\n",
      "       [146, 147, 147, ...,  96,  90,  82],\n",
      "       [144, 145, 144, ...,  93,  90,  82],\n",
      "       [139, 144, 144, ...,  92,  88,  81]], dtype=uint8), array([[ 53,  62,  65, ...,  83,  81,  80],\n",
      "       [ 53,  62,  65, ...,  83,  81,  80],\n",
      "       [ 56,  64,  65, ...,  83,  81,  79],\n",
      "       ...,\n",
      "       [104, 102, 102, ..., 120, 122, 127],\n",
      "       [106,  99, 101, ..., 120, 122, 127],\n",
      "       [109,  94, 100, ..., 121, 123, 127]], dtype=uint8), array([[134, 134, 134, ..., 134, 134, 134],\n",
      "       [134, 134, 134, ..., 134, 134, 134],\n",
      "       [134, 134, 134, ..., 134, 134, 134],\n",
      "       ...,\n",
      "       [146, 148, 147, ..., 134, 134, 134],\n",
      "       [144, 144, 147, ..., 134, 134, 134],\n",
      "       [134, 134, 136, ..., 134, 134, 134]], dtype=uint8), array([[190, 190, 192, ..., 131, 128, 127],\n",
      "       [192, 193, 197, ..., 132, 132, 130],\n",
      "       [193, 195, 197, ..., 133, 133, 132],\n",
      "       ...,\n",
      "       [ 39,  40,  41, ..., 143, 144, 144],\n",
      "       [ 40,  40,  42, ..., 144, 144, 145],\n",
      "       [ 39,  39,  41, ..., 144, 144, 146]], dtype=uint8), array([[255, 255, 255, ..., 255, 255, 255],\n",
      "       [255, 255, 255, ..., 255, 255, 255],\n",
      "       [255, 255, 255, ..., 255, 255, 255],\n",
      "       ...,\n",
      "       [255, 255, 255, ..., 255, 255, 255],\n",
      "       [255, 255, 255, ..., 255, 255, 255],\n",
      "       [255, 255, 255, ..., 255, 255, 255]], dtype=uint8), array([[37, 40, 43, ..., 28, 27, 26],\n",
      "       [42, 46, 49, ..., 28, 27, 27],\n",
      "       [46, 49, 51, ..., 29, 27, 28],\n",
      "       ...,\n",
      "       [73, 79, 81, ..., 71, 69, 71],\n",
      "       [76, 79, 78, ..., 71, 74, 71],\n",
      "       [76, 78, 78, ..., 71, 70, 70]], dtype=uint8)]\n"
     ]
    }
   ],
   "source": [
    "print(x_train)"
   ]
  },
  {
   "cell_type": "code",
   "execution_count": 46,
   "metadata": {},
   "outputs": [
    {
     "name": "stdout",
     "output_type": "stream",
     "text": [
      "[1, 0, 0, 0, 1, 1, 1, 0]\n"
     ]
    }
   ],
   "source": [
    "print(y_train)"
   ]
  },
  {
   "cell_type": "code",
   "execution_count": 47,
   "metadata": {},
   "outputs": [],
   "source": [
    "x_train=np.array(x_train).reshape(-1,150,150,1)\n",
    "x_train=x_train/255"
   ]
  },
  {
   "cell_type": "code",
   "execution_count": 48,
   "metadata": {},
   "outputs": [
    {
     "data": {
      "text/plain": [
       "(8, 150, 150, 1)"
      ]
     },
     "execution_count": 48,
     "metadata": {},
     "output_type": "execute_result"
    }
   ],
   "source": [
    "x_train.shape #25000筆,150x150的照片,1個Channel灰階"
   ]
  },
  {
   "cell_type": "code",
   "execution_count": 49,
   "metadata": {},
   "outputs": [
    {
     "data": {
      "text/plain": [
       "(150, 150, 1)"
      ]
     },
     "execution_count": 49,
     "metadata": {},
     "output_type": "execute_result"
    }
   ],
   "source": [
    "x_train[5].shape"
   ]
  },
  {
   "cell_type": "code",
   "execution_count": 50,
   "metadata": {},
   "outputs": [
    {
     "data": {
      "text/plain": [
       "1"
      ]
     },
     "execution_count": 50,
     "metadata": {},
     "output_type": "execute_result"
    }
   ],
   "source": [
    "y_train= np.array(y_train)\n",
    "y_train[5]"
   ]
  },
  {
   "cell_type": "code",
   "execution_count": 51,
   "metadata": {},
   "outputs": [
    {
     "name": "stdout",
     "output_type": "stream",
     "text": [
      "8 8\n"
     ]
    }
   ],
   "source": [
    "print(len(y_train),len(x_train))"
   ]
  },
  {
   "cell_type": "code",
   "execution_count": 52,
   "metadata": {},
   "outputs": [
    {
     "name": "stdout",
     "output_type": "stream",
     "text": [
      "[[[[0.21176471]\n",
      "   [0.21176471]\n",
      "   [0.22352941]\n",
      "   ...\n",
      "   [0.42745098]\n",
      "   [0.42352941]\n",
      "   [0.41568627]]\n",
      "\n",
      "  [[0.21568627]\n",
      "   [0.21568627]\n",
      "   [0.22745098]\n",
      "   ...\n",
      "   [0.48235294]\n",
      "   [0.47843137]\n",
      "   [0.47058824]]\n",
      "\n",
      "  [[0.21568627]\n",
      "   [0.21960784]\n",
      "   [0.23921569]\n",
      "   ...\n",
      "   [0.53333333]\n",
      "   [0.52156863]\n",
      "   [0.51372549]]\n",
      "\n",
      "  ...\n",
      "\n",
      "  [[0.90196078]\n",
      "   [0.84705882]\n",
      "   [0.8627451 ]\n",
      "   ...\n",
      "   [0.48235294]\n",
      "   [0.4745098 ]\n",
      "   [0.4627451 ]]\n",
      "\n",
      "  [[0.87058824]\n",
      "   [0.8627451 ]\n",
      "   [0.90588235]\n",
      "   ...\n",
      "   [0.48235294]\n",
      "   [0.4627451 ]\n",
      "   [0.44313725]]\n",
      "\n",
      "  [[0.87058824]\n",
      "   [0.87058824]\n",
      "   [0.83137255]\n",
      "   ...\n",
      "   [0.4745098 ]\n",
      "   [0.45490196]\n",
      "   [0.42745098]]]\n",
      "\n",
      "\n",
      " [[[0.24313725]\n",
      "   [0.23137255]\n",
      "   [0.19607843]\n",
      "   ...\n",
      "   [0.02745098]\n",
      "   [0.02745098]\n",
      "   [0.02745098]]\n",
      "\n",
      "  [[0.22745098]\n",
      "   [0.24313725]\n",
      "   [0.21960784]\n",
      "   ...\n",
      "   [0.02745098]\n",
      "   [0.02745098]\n",
      "   [0.02745098]]\n",
      "\n",
      "  [[0.23137255]\n",
      "   [0.25490196]\n",
      "   [0.25098039]\n",
      "   ...\n",
      "   [0.02745098]\n",
      "   [0.02745098]\n",
      "   [0.02745098]]\n",
      "\n",
      "  ...\n",
      "\n",
      "  [[0.22352941]\n",
      "   [0.20784314]\n",
      "   [0.2627451 ]\n",
      "   ...\n",
      "   [0.94117647]\n",
      "   [0.91764706]\n",
      "   [0.91764706]]\n",
      "\n",
      "  [[0.22745098]\n",
      "   [0.20784314]\n",
      "   [0.23921569]\n",
      "   ...\n",
      "   [0.9372549 ]\n",
      "   [0.92941176]\n",
      "   [0.92941176]]\n",
      "\n",
      "  [[0.23137255]\n",
      "   [0.2       ]\n",
      "   [0.22745098]\n",
      "   ...\n",
      "   [0.92941176]\n",
      "   [0.93333333]\n",
      "   [0.93333333]]]\n",
      "\n",
      "\n",
      " [[[0.17254902]\n",
      "   [0.17647059]\n",
      "   [0.17254902]\n",
      "   ...\n",
      "   [0.00784314]\n",
      "   [0.01568627]\n",
      "   [0.01568627]]\n",
      "\n",
      "  [[0.16862745]\n",
      "   [0.17647059]\n",
      "   [0.18823529]\n",
      "   ...\n",
      "   [0.01568627]\n",
      "   [0.01568627]\n",
      "   [0.01568627]]\n",
      "\n",
      "  [[0.16470588]\n",
      "   [0.17647059]\n",
      "   [0.18823529]\n",
      "   ...\n",
      "   [0.01568627]\n",
      "   [0.01568627]\n",
      "   [0.01568627]]\n",
      "\n",
      "  ...\n",
      "\n",
      "  [[0.57254902]\n",
      "   [0.57647059]\n",
      "   [0.57647059]\n",
      "   ...\n",
      "   [0.37647059]\n",
      "   [0.35294118]\n",
      "   [0.32156863]]\n",
      "\n",
      "  [[0.56470588]\n",
      "   [0.56862745]\n",
      "   [0.56470588]\n",
      "   ...\n",
      "   [0.36470588]\n",
      "   [0.35294118]\n",
      "   [0.32156863]]\n",
      "\n",
      "  [[0.54509804]\n",
      "   [0.56470588]\n",
      "   [0.56470588]\n",
      "   ...\n",
      "   [0.36078431]\n",
      "   [0.34509804]\n",
      "   [0.31764706]]]\n",
      "\n",
      "\n",
      " ...\n",
      "\n",
      "\n",
      " [[[0.74509804]\n",
      "   [0.74509804]\n",
      "   [0.75294118]\n",
      "   ...\n",
      "   [0.51372549]\n",
      "   [0.50196078]\n",
      "   [0.49803922]]\n",
      "\n",
      "  [[0.75294118]\n",
      "   [0.75686275]\n",
      "   [0.77254902]\n",
      "   ...\n",
      "   [0.51764706]\n",
      "   [0.51764706]\n",
      "   [0.50980392]]\n",
      "\n",
      "  [[0.75686275]\n",
      "   [0.76470588]\n",
      "   [0.77254902]\n",
      "   ...\n",
      "   [0.52156863]\n",
      "   [0.52156863]\n",
      "   [0.51764706]]\n",
      "\n",
      "  ...\n",
      "\n",
      "  [[0.15294118]\n",
      "   [0.15686275]\n",
      "   [0.16078431]\n",
      "   ...\n",
      "   [0.56078431]\n",
      "   [0.56470588]\n",
      "   [0.56470588]]\n",
      "\n",
      "  [[0.15686275]\n",
      "   [0.15686275]\n",
      "   [0.16470588]\n",
      "   ...\n",
      "   [0.56470588]\n",
      "   [0.56470588]\n",
      "   [0.56862745]]\n",
      "\n",
      "  [[0.15294118]\n",
      "   [0.15294118]\n",
      "   [0.16078431]\n",
      "   ...\n",
      "   [0.56470588]\n",
      "   [0.56470588]\n",
      "   [0.57254902]]]\n",
      "\n",
      "\n",
      " [[[1.        ]\n",
      "   [1.        ]\n",
      "   [1.        ]\n",
      "   ...\n",
      "   [1.        ]\n",
      "   [1.        ]\n",
      "   [1.        ]]\n",
      "\n",
      "  [[1.        ]\n",
      "   [1.        ]\n",
      "   [1.        ]\n",
      "   ...\n",
      "   [1.        ]\n",
      "   [1.        ]\n",
      "   [1.        ]]\n",
      "\n",
      "  [[1.        ]\n",
      "   [1.        ]\n",
      "   [1.        ]\n",
      "   ...\n",
      "   [1.        ]\n",
      "   [1.        ]\n",
      "   [1.        ]]\n",
      "\n",
      "  ...\n",
      "\n",
      "  [[1.        ]\n",
      "   [1.        ]\n",
      "   [1.        ]\n",
      "   ...\n",
      "   [1.        ]\n",
      "   [1.        ]\n",
      "   [1.        ]]\n",
      "\n",
      "  [[1.        ]\n",
      "   [1.        ]\n",
      "   [1.        ]\n",
      "   ...\n",
      "   [1.        ]\n",
      "   [1.        ]\n",
      "   [1.        ]]\n",
      "\n",
      "  [[1.        ]\n",
      "   [1.        ]\n",
      "   [1.        ]\n",
      "   ...\n",
      "   [1.        ]\n",
      "   [1.        ]\n",
      "   [1.        ]]]\n",
      "\n",
      "\n",
      " [[[0.14509804]\n",
      "   [0.15686275]\n",
      "   [0.16862745]\n",
      "   ...\n",
      "   [0.10980392]\n",
      "   [0.10588235]\n",
      "   [0.10196078]]\n",
      "\n",
      "  [[0.16470588]\n",
      "   [0.18039216]\n",
      "   [0.19215686]\n",
      "   ...\n",
      "   [0.10980392]\n",
      "   [0.10588235]\n",
      "   [0.10588235]]\n",
      "\n",
      "  [[0.18039216]\n",
      "   [0.19215686]\n",
      "   [0.2       ]\n",
      "   ...\n",
      "   [0.11372549]\n",
      "   [0.10588235]\n",
      "   [0.10980392]]\n",
      "\n",
      "  ...\n",
      "\n",
      "  [[0.28627451]\n",
      "   [0.30980392]\n",
      "   [0.31764706]\n",
      "   ...\n",
      "   [0.27843137]\n",
      "   [0.27058824]\n",
      "   [0.27843137]]\n",
      "\n",
      "  [[0.29803922]\n",
      "   [0.30980392]\n",
      "   [0.30588235]\n",
      "   ...\n",
      "   [0.27843137]\n",
      "   [0.29019608]\n",
      "   [0.27843137]]\n",
      "\n",
      "  [[0.29803922]\n",
      "   [0.30588235]\n",
      "   [0.30588235]\n",
      "   ...\n",
      "   [0.27843137]\n",
      "   [0.2745098 ]\n",
      "   [0.2745098 ]]]]\n"
     ]
    }
   ],
   "source": [
    "print(x_train)"
   ]
  },
  {
   "cell_type": "code",
   "execution_count": 53,
   "metadata": {},
   "outputs": [],
   "source": [
    "model = Sequential()\n",
    "\n",
    "model.add(Conv2D(32,(3,3),input_shape=(150,150,1),padding='same',activation ='relu'))\n",
    "model.add(MaxPooling2D(pool_size = (2,2)))\n",
    "\n",
    "model.add(Conv2D(64,(3,3),padding='same',activation ='relu'))\n",
    "model.add(MaxPooling2D(pool_size = (2,2)))\n",
    "model.add(Flatten())\n",
    "model.add(Dense(64, activation='relu'))\n",
    "model.add(Dense(1, activation='sigmoid'))\n"
   ]
  },
  {
   "cell_type": "code",
   "execution_count": 54,
   "metadata": {},
   "outputs": [
    {
     "name": "stdout",
     "output_type": "stream",
     "text": [
      "Model: \"sequential\"\n",
      "_________________________________________________________________\n",
      "Layer (type)                 Output Shape              Param #   \n",
      "=================================================================\n",
      "conv2d (Conv2D)              (None, 150, 150, 32)      320       \n",
      "_________________________________________________________________\n",
      "max_pooling2d (MaxPooling2D) (None, 75, 75, 32)        0         \n",
      "_________________________________________________________________\n",
      "conv2d_1 (Conv2D)            (None, 75, 75, 64)        18496     \n",
      "_________________________________________________________________\n",
      "max_pooling2d_1 (MaxPooling2 (None, 37, 37, 64)        0         \n",
      "_________________________________________________________________\n",
      "flatten (Flatten)            (None, 87616)             0         \n",
      "_________________________________________________________________\n",
      "dense (Dense)                (None, 64)                5607488   \n",
      "_________________________________________________________________\n",
      "dense_1 (Dense)              (None, 1)                 65        \n",
      "=================================================================\n",
      "Total params: 5,626,369\n",
      "Trainable params: 5,626,369\n",
      "Non-trainable params: 0\n",
      "_________________________________________________________________\n"
     ]
    }
   ],
   "source": [
    "model.summary()"
   ]
  },
  {
   "cell_type": "code",
   "execution_count": 55,
   "metadata": {},
   "outputs": [],
   "source": [
    "model.compile(optimizer='adam', #或是optimizer=\"adam\" \n",
    "              loss='binary_crossentropy',metrics=['accuracy'])"
   ]
  },
  {
   "cell_type": "code",
   "execution_count": 56,
   "metadata": {},
   "outputs": [
    {
     "name": "stdout",
     "output_type": "stream",
     "text": [
      "Train on 8 samples\n",
      "Epoch 1/3\n",
      "8/8 [==============================] - 1s 181ms/sample - loss: 0.7255 - accuracy: 0.5000\n",
      "Epoch 2/3\n",
      "8/8 [==============================] - 0s 19ms/sample - loss: 0.5928 - accuracy: 0.5000\n",
      "Epoch 3/3\n",
      "8/8 [==============================] - 0s 19ms/sample - loss: 0.3711 - accuracy: 1.0000\n"
     ]
    },
    {
     "data": {
      "text/plain": [
       "<tensorflow.python.keras.callbacks.History at 0x19cfd724ac8>"
      ]
     },
     "execution_count": 56,
     "metadata": {},
     "output_type": "execute_result"
    }
   ],
   "source": [
    "model.fit(x_train,y_train, epochs=3, batch_size=100)"
   ]
  },
  {
   "cell_type": "code",
   "execution_count": null,
   "metadata": {},
   "outputs": [],
   "source": []
  },
  {
   "cell_type": "code",
   "execution_count": null,
   "metadata": {},
   "outputs": [],
   "source": []
  },
  {
   "cell_type": "code",
   "execution_count": null,
   "metadata": {},
   "outputs": [],
   "source": []
  }
 ],
 "metadata": {
  "kernelspec": {
   "display_name": "Python 3",
   "language": "python",
   "name": "python3"
  },
  "language_info": {
   "codemirror_mode": {
    "name": "ipython",
    "version": 3
   },
   "file_extension": ".py",
   "mimetype": "text/x-python",
   "name": "python",
   "nbconvert_exporter": "python",
   "pygments_lexer": "ipython3",
   "version": "3.7.4"
  }
 },
 "nbformat": 4,
 "nbformat_minor": 2
}
