{
 "cells": [
  {
   "cell_type": "code",
   "execution_count": 1,
   "metadata": {},
   "outputs": [],
   "source": [
    "import requests as re\n",
    "from pyquery import PyQuery as pq\n",
    "import time"
   ]
  },
  {
   "cell_type": "code",
   "execution_count": 2,
   "metadata": {},
   "outputs": [],
   "source": [
    "url='https://www.cnyes.com/twstock/a_QFII9.aspx'\n",
    "res=re.get(url)\n",
    "doc=pq(res.text)"
   ]
  },
  {
   "cell_type": "code",
   "execution_count": 40,
   "metadata": {},
   "outputs": [
    {
     "name": "stdout",
     "output_type": "stream",
     "text": [
      "['00677U\\n富邦VIX\\n47517\\n1001447\\n28.45', '2603\\n長榮\\n8023\\n1136492\\n23.61', '2412\\n中華電\\n7116\\n1273645\\n16.41', '6116\\n彩晶\\n6769\\n353032\\n11.26', '2881\\n富邦金\\n5833\\n2706621\\n26.44', '2323\\n中環\\n5125\\n103015\\n8.88', '2448\\n晶電\\n4515\\n197412\\n18.13', '1314\\n中石化\\n4226\\n537577\\n16.36', '2344\\n華邦電\\n4208\\n898589\\n22.57', '00634R\\n富邦上証反1\\n3907\\n6738\\n3.79', '4904\\n遠傳\\n3235\\n693073\\n21.26', '00638R\\n元大滬深300反1\\n3104\\n16914\\n17.35', '6153\\n嘉聯益\\n2538\\n73668\\n13.53', '2498\\n宏達電\\n2365\\n132044\\n16.12', '2104\\n國際中橡\\n2349\\n117717\\n11.95', '2368\\n金像電\\n2336\\n54719\\n10.01', '3016\\n嘉晶\\n2296\\n5118\\n1.86', '2371\\n大同\\n2035\\n923281\\n39.46', '9958\\n世紀鋼\\n1990\\n11073\\n5.28', '2478\\n大毅\\n1895\\n11913\\n8.20', '2618\\n長榮航\\n1822\\n1359382\\n28.00', '3704\\n合勤控\\n1761\\n45971\\n10.42', '2605\\n新興\\n1750\\n194744\\n33.26', '2342\\n茂矽\\n1675\\n11496\\n7.35', '2360\\n致茂\\n1664\\n268315\\n64.02', '8046\\n南電\\n1643\\n43717\\n6.76', '3338\\n泰碩\\n1630\\n3904\\n4.51', '8215\\n明基材\\n1628\\n7917\\n2.46', '6230\\n超眾\\n1534\\n54785\\n63.44', '3545\\n敦泰\\n1491\\n70093\\n23.40']\n"
     ]
    }
   ],
   "source": [
    "list=[]\n",
    "for i in range(31):\n",
    "    for eachdoc in doc('#ctl00_ContentPlaceHolder1_UpdatePanel1> div.mbx.screenBx > div > table.fLtBx > tbody > tr:nth-child({})'.format(i)).items():\n",
    "        list.append(eachdoc.text())\n",
    "print(list)"
   ]
  },
  {
   "cell_type": "code",
   "execution_count": 39,
   "metadata": {},
   "outputs": [
    {
     "name": "stdout",
     "output_type": "stream",
     "text": [
      "[{'代號': '00677U', '名稱': '富邦VIX', '買超張數': '47517', '持股率%': '28.45'}, {'代號': '2603', '名稱': '長榮', '買超張數': '8023', '持股率%': '23.61'}, {'代號': '2412', '名稱': '中華電', '買超張數': '7116', '持股率%': '16.41'}, {'代號': '6116', '名稱': '彩晶', '買超張數': '6769', '持股率%': '11.26'}, {'代號': '2881', '名稱': '富邦金', '買超張數': '5833', '持股率%': '26.44'}, {'代號': '2323', '名稱': '中環', '買超張數': '5125', '持股率%': '8.88'}, {'代號': '2448', '名稱': '晶電', '買超張數': '4515', '持股率%': '18.13'}, {'代號': '1314', '名稱': '中石化', '買超張數': '4226', '持股率%': '16.36'}, {'代號': '2344', '名稱': '華邦電', '買超張數': '4208', '持股率%': '22.57'}, {'代號': '00634R', '名稱': '富邦上証反1', '買超張數': '3907', '持股率%': '3.79'}, {'代號': '4904', '名稱': '遠傳', '買超張數': '3235', '持股率%': '21.26'}, {'代號': '00638R', '名稱': '元大滬深300反1', '買超張數': '3104', '持股率%': '17.35'}, {'代號': '6153', '名稱': '嘉聯益', '買超張數': '2538', '持股率%': '13.53'}, {'代號': '2498', '名稱': '宏達電', '買超張數': '2365', '持股率%': '16.12'}, {'代號': '2104', '名稱': '國際中橡', '買超張數': '2349', '持股率%': '11.95'}, {'代號': '2368', '名稱': '金像電', '買超張數': '2336', '持股率%': '10.01'}, {'代號': '3016', '名稱': '嘉晶', '買超張數': '2296', '持股率%': '1.86'}, {'代號': '2371', '名稱': '大同', '買超張數': '2035', '持股率%': '39.46'}, {'代號': '9958', '名稱': '世紀鋼', '買超張數': '1990', '持股率%': '5.28'}, {'代號': '2478', '名稱': '大毅', '買超張數': '1895', '持股率%': '8.20'}, {'代號': '2618', '名稱': '長榮航', '買超張數': '1822', '持股率%': '28.00'}, {'代號': '3704', '名稱': '合勤控', '買超張數': '1761', '持股率%': '10.42'}, {'代號': '2605', '名稱': '新興', '買超張數': '1750', '持股率%': '33.26'}, {'代號': '2342', '名稱': '茂矽', '買超張數': '1675', '持股率%': '7.35'}, {'代號': '2360', '名稱': '致茂', '買超張數': '1664', '持股率%': '64.02'}, {'代號': '8046', '名稱': '南電', '買超張數': '1643', '持股率%': '6.76'}, {'代號': '3338', '名稱': '泰碩', '買超張數': '1630', '持股率%': '4.51'}, {'代號': '8215', '名稱': '明基材', '買超張數': '1628', '持股率%': '2.46'}, {'代號': '6230', '名稱': '超眾', '買超張數': '1534', '持股率%': '63.44'}, {'代號': '3545', '名稱': '敦泰', '買超張數': '1491', '持股率%': '23.40'}]\n"
     ]
    }
   ],
   "source": [
    "list_buy=[]\n",
    "for i in range(31):\n",
    "    for eachdoc in doc('#ctl00_ContentPlaceHolder1_UpdatePanel1> div.mbx.screenBx > div > table.fLtBx > tbody > tr:nth-child({})'.format(i)).items():\n",
    "        dict={}\n",
    "        dict[\"代號\"]=eachdoc('td:nth-child(1) > a').text()\n",
    "        dict[\"名稱\"]=eachdoc('td:nth-child(2) > a').text()\n",
    "        dict[\"買超張數\"]=eachdoc('td:nth-child(3)').text()\n",
    "        dict[\"持股率%\"]=eachdoc('td:nth-child(5)').text()\n",
    "        list_buy.append(dict)\n",
    "print(list_buy)"
   ]
  },
  {
   "cell_type": "code",
   "execution_count": 23,
   "metadata": {},
   "outputs": [
    {
     "data": {
      "text/plain": [
       "'富邦VIX 長榮 中華電 彩晶 富邦金 中環 晶電 中石化 華邦電 富邦上証反1 遠傳 元大滬深300反1 嘉聯益 宏達電 國際中橡 金像電 嘉晶 大同 世紀鋼 大毅 長榮航 合勤控 新興 茂矽 致茂 南電 泰碩 明基材 超眾 敦泰'"
      ]
     },
     "execution_count": 23,
     "metadata": {},
     "output_type": "execute_result"
    }
   ],
   "source": [
    "doc('#ctl00_ContentPlaceHolder1_UpdatePanel1 > div.mbx.screenBx > div > table.fLtBx > tbody > tr td:nth-child(2) > a').text()"
   ]
  },
  {
   "cell_type": "code",
   "execution_count": null,
   "metadata": {},
   "outputs": [],
   "source": []
  },
  {
   "cell_type": "code",
   "execution_count": null,
   "metadata": {},
   "outputs": [],
   "source": []
  },
  {
   "cell_type": "code",
   "execution_count": null,
   "metadata": {},
   "outputs": [],
   "source": []
  },
  {
   "cell_type": "code",
   "execution_count": null,
   "metadata": {},
   "outputs": [],
   "source": []
  }
 ],
 "metadata": {
  "kernelspec": {
   "display_name": "Python 3",
   "language": "python",
   "name": "python3"
  },
  "language_info": {
   "codemirror_mode": {
    "name": "ipython",
    "version": 3
   },
   "file_extension": ".py",
   "mimetype": "text/x-python",
   "name": "python",
   "nbconvert_exporter": "python",
   "pygments_lexer": "ipython3",
   "version": "3.7.4"
  }
 },
 "nbformat": 4,
 "nbformat_minor": 2
}
