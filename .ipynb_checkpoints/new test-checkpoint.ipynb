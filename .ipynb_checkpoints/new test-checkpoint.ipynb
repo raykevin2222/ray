{
 "cells": [
  {
   "cell_type": "code",
   "execution_count": 2,
   "metadata": {},
   "outputs": [],
   "source": [
    "%matplotlib inline\n",
    "\n",
    "import numpy as np\n",
    "import matplotlib.pyplot as plt\n",
    "import pandas as pd\n",
    "import tensorflow as tf\n",
    "from tensorflow.keras.models import Sequential\n",
    "from tensorflow.keras.layers import Conv2D, MaxPooling2D\n",
    "from tensorflow.keras.layers import Dense, Flatten\n",
    "from tensorflow.keras.optimizers import SGD\n",
    "import os\n",
    "import cv2\n",
    "import random"
   ]
  },
  {
   "cell_type": "code",
   "execution_count": 23,
   "metadata": {},
   "outputs": [],
   "source": [
    "path='train'\n",
    "cats =  []\n",
    "label_cats = []\n",
    "dogs = []\n",
    "label_dogs = []\n",
    "for file in os.listdir(path):#返回這個路徑下所有檔案的名字\n",
    "    name = file.split(sep='.')\n",
    "    if name[0]=='cat':\n",
    "        cats.append(file)\n",
    "        label_cats.append(0)\n",
    "    else:\n",
    "        dogs.append(file)\n",
    "        label_dogs.append(1)\n",
    "image_list = np.hstack((cats, dogs))#將貓狗圖片堆積起來\n",
    "label_list = np.hstack((label_cats,label_dogs))#label也堆積起來\n",
    "temp = np.array([image_list,label_list])\n",
    "temp = temp.transpose()\n",
    "np.random.shuffle(temp)#打亂資料\n",
    "image_list = list(temp[:,0])\n",
    "label_list = list(temp[:,1])\n",
    "label_list = [int(i) for i in label_list]\n"
   ]
  },
  {
   "cell_type": "code",
   "execution_count": 16,
   "metadata": {},
   "outputs": [
    {
     "name": "stdout",
     "output_type": "stream",
     "text": [
      "['cat.0.jpg' 'cat.1.jpg' 'cat.2.jpg' 'cat.3.jpg' 'dog.0.jpg' 'dog.1.jpg'\n",
      " 'dog.2.jpg' 'dog.3.jpg']\n"
     ]
    }
   ],
   "source": [
    "print(image_list)"
   ]
  },
  {
   "cell_type": "code",
   "execution_count": 22,
   "metadata": {},
   "outputs": [
    {
     "name": "stdout",
     "output_type": "stream",
     "text": [
      "['dog.3.jpg' 'cat.2.jpg' 'dog.0.jpg' 'cat.1.jpg' 'cat.3.jpg' 'cat.0.jpg'\n",
      " 'dog.2.jpg' 'dog.1.jpg']\n"
     ]
    }
   ],
   "source": [
    "print(temp)"
   ]
  },
  {
   "cell_type": "code",
   "execution_count": 24,
   "metadata": {},
   "outputs": [
    {
     "name": "stdout",
     "output_type": "stream",
     "text": [
      "['cat.3.jpg' 'dog.1.jpg' 'dog.3.jpg' 'cat.1.jpg' 'cat.2.jpg' 'cat.0.jpg'\n",
      " 'dog.0.jpg' 'dog.2.jpg']\n"
     ]
    }
   ],
   "source": [
    "print(image_list)"
   ]
  },
  {
   "cell_type": "code",
   "execution_count": null,
   "metadata": {},
   "outputs": [],
   "source": [
    "# path='train'\n",
    "# cats =  []\n",
    "# label_cats = []\n",
    "# dogs = []\n",
    "# label_dogs = []\n",
    "# for file in os.listdir(path):#返回這個路徑下所有檔案的名字\n",
    "#     name = file.split(sep='.')\n",
    "#     if name[0]=='cat':\n",
    "#         cats.append(file)\n",
    "        \n",
    "#     else:\n",
    "#         dogs.append(file)\n",
    "# image_list = np.hstack((cats, dogs))#將貓狗圖片堆積起來\n",
    "# temp = np.array(image_list)\n",
    "# np.random.shuffle(temp)#打亂資料\n",
    "# image_list=temp\n",
    "\n",
    "\n",
    "for i in temp:\n",
    "    img=cv2.imread(os.path.join(path,i),cv2.IMREAD_GRAYSCALE)\n",
    "    nimg=cv2.resize(img,dsize=(150,150))\n",
    "    x_train.append(nimg)"
   ]
  },
  {
   "cell_type": "code",
   "execution_count": 28,
   "metadata": {},
   "outputs": [
    {
     "name": "stdout",
     "output_type": "stream",
     "text": [
      "cat.3.jpg <class 'numpy.str_'>\n",
      "dog.1.jpg <class 'numpy.str_'>\n",
      "dog.3.jpg <class 'numpy.str_'>\n",
      "cat.1.jpg <class 'numpy.str_'>\n",
      "cat.2.jpg <class 'numpy.str_'>\n",
      "cat.0.jpg <class 'numpy.str_'>\n",
      "dog.0.jpg <class 'numpy.str_'>\n",
      "dog.2.jpg <class 'numpy.str_'>\n"
     ]
    }
   ],
   "source": [
    "for i in temp:\n",
    "    print(i,type(i))"
   ]
  },
  {
   "cell_type": "code",
   "execution_count": null,
   "metadata": {},
   "outputs": [],
   "source": []
  },
  {
   "cell_type": "code",
   "execution_count": null,
   "metadata": {},
   "outputs": [],
   "source": [
    "x_train=[]\n",
    "y_train=[]\n",
    "path=os.path.join('train')\n",
    "\n",
    "for i in os.listdir(path):\n",
    "    name=i.split(\".\")[0]   #找出圖片以'.'為切割的名字開頭\n",
    "#     print(name)\n",
    "    if name==\"dog\":        #如果圖片名稱為dog開頭則 label=1，反之若是cat則 label=0\n",
    "        label=int(1)\n",
    "    else:\n",
    "        label=int(0)\n",
    "#     print(label)\n",
    "    img=cv2.imread(os.path.join(path,i),cv2.IMREAD_GRAYSCALE)     #我們使用灰階。試過彩色的，但這樣不知道為什麼圖片做出來會失真\n",
    "#     print(cv2.imread(os.path.join(path,i)))\n",
    "    nimg=cv2.resize(img,dsize=(150,150))    #將每個圖片大小調整成150X150\n",
    "    x_train.append(nimg)\n",
    "    y_train.append(label)\n"
   ]
  },
  {
   "cell_type": "code",
   "execution_count": null,
   "metadata": {},
   "outputs": [],
   "source": [
    "x_train=np.array(x_train).reshape(-1,150,150,1)\n",
    "x_train=x_train/255"
   ]
  },
  {
   "cell_type": "code",
   "execution_count": null,
   "metadata": {},
   "outputs": [],
   "source": [
    "x_train.shape #25000筆,150x150的照片,1個Channel灰階"
   ]
  },
  {
   "cell_type": "code",
   "execution_count": null,
   "metadata": {},
   "outputs": [],
   "source": [
    "x_train[5].shape"
   ]
  },
  {
   "cell_type": "code",
   "execution_count": null,
   "metadata": {},
   "outputs": [],
   "source": [
    "y_train= np.array(y_train)\n",
    "y_train[5]"
   ]
  },
  {
   "cell_type": "code",
   "execution_count": null,
   "metadata": {},
   "outputs": [],
   "source": [
    "print(len(y_train),len(x_train))"
   ]
  },
  {
   "cell_type": "code",
   "execution_count": null,
   "metadata": {},
   "outputs": [],
   "source": [
    "print(x_train)"
   ]
  },
  {
   "cell_type": "code",
   "execution_count": null,
   "metadata": {},
   "outputs": [],
   "source": []
  }
 ],
 "metadata": {
  "kernelspec": {
   "display_name": "Python 3",
   "language": "python",
   "name": "python3"
  },
  "language_info": {
   "codemirror_mode": {
    "name": "ipython",
    "version": 3
   },
   "file_extension": ".py",
   "mimetype": "text/x-python",
   "name": "python",
   "nbconvert_exporter": "python",
   "pygments_lexer": "ipython3",
   "version": "3.7.4"
  }
 },
 "nbformat": 4,
 "nbformat_minor": 2
}
