{
 "cells": [
  {
   "cell_type": "code",
   "execution_count": 1,
   "metadata": {},
   "outputs": [],
   "source": [
    "%matplotlib inline\n",
    "import numpy as np\n",
    "import matplotlib.pyplot as plt"
   ]
  },
  {
   "cell_type": "code",
   "execution_count": 2,
   "metadata": {},
   "outputs": [],
   "source": [
    "from tensorflow.keras.datasets import fashion_mnist"
   ]
  },
  {
   "cell_type": "code",
   "execution_count": 3,
   "metadata": {},
   "outputs": [],
   "source": [
    "(x_train,y_train),(x_test,y_test)=fashion_mnist.load_data()"
   ]
  },
  {
   "cell_type": "code",
   "execution_count": 4,
   "metadata": {},
   "outputs": [],
   "source": [
    "class_names = ['T-shirt/top', 'Trouser', 'Pullover', 'Dress', 'Coat',\n",
    "               'Sandal', 'Shirt', 'Sneaker', 'Bag', 'Ankle boot']"
   ]
  },
  {
   "cell_type": "code",
   "execution_count": 5,
   "metadata": {},
   "outputs": [
    {
     "name": "stdout",
     "output_type": "stream",
     "text": [
      "這是 Bag\n"
     ]
    },
    {
     "data": {
      "image/png": "[encoded data removed]",
      "text/plain": [
       "<Figure size 432x288 with 1 Axes>"
      ]
     },
     "metadata": {
      "needs_background": "light"
     },
     "output_type": "display_data"
    }
   ],
   "source": [
    "n = 1234\n",
    "print('這是', class_names[y_train[n]])\n",
    "plt.imshow(x_train[n], cmap='Greys');"
   ]
  },
  {
   "cell_type": "code",
   "execution_count": 6,
   "metadata": {},
   "outputs": [
    {
     "data": {
      "image/png": "[encoded data removed]",
      "text/plain": [
       "<Figure size 432x288 with 5 Axes>"
      ]
     },
     "metadata": {},
     "output_type": "display_data"
    }
   ],
   "source": [
    "pick = np.random.choice(60000, 5, replace=False)\n",
    "\n",
    "for i in range(5):\n",
    "    n = pick[i]\n",
    "    ax = plt.subplot(151+i)\n",
    "    ax.set_xticks([])\n",
    "    ax.set_yticks([])\n",
    "    ax.set_title(class_names[y_train[n]], fontsize=10)\n",
    "    plt.imshow(x_train[n], cmap='Greys')  "
   ]
  },
  {
   "cell_type": "code",
   "execution_count": 7,
   "metadata": {},
   "outputs": [],
   "source": [
    "# 觀察資料幾筆"
   ]
  },
  {
   "cell_type": "code",
   "execution_count": 8,
   "metadata": {},
   "outputs": [
    {
     "data": {
      "text/plain": [
       "(60000, 28, 28)"
      ]
     },
     "execution_count": 8,
     "metadata": {},
     "output_type": "execute_result"
    }
   ],
   "source": [
    "x_train.shape"
   ]
  },
  {
   "cell_type": "code",
   "execution_count": 9,
   "metadata": {},
   "outputs": [
    {
     "data": {
      "text/plain": [
       "(10000, 28, 28)"
      ]
     },
     "execution_count": 9,
     "metadata": {},
     "output_type": "execute_result"
    }
   ],
   "source": [
    "x_test.shape"
   ]
  },
  {
   "cell_type": "code",
   "execution_count": 10,
   "metadata": {},
   "outputs": [
    {
     "data": {
      "text/plain": [
       "array([[  0,   0,   0,   0,   0,   0,   0,  29,  65, 144, 150,  64,  28,\n",
       "         17,  28,  50,  98, 145,  63,  40,   0,   0,   0,   1,   0,   0,\n",
       "          0,   0],\n",
       "       [  0,   0,   0,   0,   0,   0,  94, 144, 119,  89, 179, 202, 234,\n",
       "        253, 255, 215, 214, 127, 108, 138, 119,  26,   0,   2,   0,   0,\n",
       "          0,   0],\n",
       "       [  0,   0,   0,   0,   0,  54, 116, 106, 101,  96,  64,  75, 129,\n",
       "        152, 156, 100,  82,  85, 115,  96, 109, 126,   0,   0,   1,   0,\n",
       "          0,   0],\n",
       "       [  0,   0,   0,   0,   0, 102, 106,  94, 110,  90,  81,  89,  79,\n",
       "         67,  73,  75,  66, 132, 116,  85,  96, 128,  48,   0,   1,   0,\n",
       "          0,   0],\n",
       "       [  0,   0,   0,   0,   0, 126,  95,  92,  94,  92,  91,  90, 100,\n",
       "         94,  94,  89,  91,  77, 104, 134,  96, 116,  91,   0,   0,   0,\n",
       "          0,   0],\n",
       "       [  0,   0,   0,   0,  17, 139, 102, 101,  91,  97,  90,  89,  86,\n",
       "         79,  84,  85,  85,  83, 113, 104,  92, 121, 113,   0,   0,   0,\n",
       "          0,   0],\n",
       "       [  0,   0,   0,   0,  45, 132,  98, 102,  95,  97,  89,  85,  97,\n",
       "         96,  92,  86,  81,  95,  81, 139, 125, 125, 126,   1,   0,   0,\n",
       "          0,   0],\n",
       "       [  0,   0,   0,   0,  63, 120, 108,  94, 103, 101, 108, 100,  96,\n",
       "         88, 104, 119, 101, 102, 104, 102, 100, 138, 126,  21,   0,   0,\n",
       "          0,   0],\n",
       "       [  0,   0,   0,   0,  89, 125, 120, 172, 123,  98, 101, 114, 113,\n",
       "         98, 110, 116, 112, 112, 108, 154, 150, 144, 112,  53,   0,   0,\n",
       "          0,   0],\n",
       "       [  0,   0,   0,   0, 110, 122, 150, 203, 171,  81, 119, 113, 115,\n",
       "        112, 104, 114, 106, 141,  85, 233, 206, 153, 110,  77,   0,   0,\n",
       "          0,   0],\n",
       "       [  0,   0,   0,   0, 125,  95, 181, 215, 195,  70, 115, 102, 108,\n",
       "        107, 112, 110, 100, 126,  98, 178, 195, 142, 114, 108,   0,   0,\n",
       "          0,   0],\n",
       "       [  0,   0,   0,   0, 141, 115, 195, 228, 100, 102, 116, 100, 108,\n",
       "        108, 110, 106, 115, 112,  97, 152, 224, 128, 138, 120,   0,   0,\n",
       "          0,   0],\n",
       "       [  0,   0,   0,   7, 151, 121, 196, 194,  75, 102, 114, 109, 109,\n",
       "        108, 103, 106, 110, 104, 112,  97, 222, 142, 129, 122,   0,   0,\n",
       "          0,   0],\n",
       "       [  0,   0,   0,  26, 157, 139, 212,  39,  83, 112, 107, 107, 107,\n",
       "        112, 110, 114, 116, 108, 113,  73, 193, 154, 135, 132,  10,   0,\n",
       "          0,   0],\n",
       "       [  0,   0,   0,  29, 150, 158, 193,  52, 110, 119, 119, 119, 120,\n",
       "        112, 114, 120, 108, 122, 112,  71, 172, 182, 156, 139,  29,   0,\n",
       "          0,   0],\n",
       "       [  0,   0,   0,  39, 147, 188, 194,  61, 114, 113, 116, 115, 119,\n",
       "        114, 113, 120, 107, 116, 128,  77, 156, 209, 154, 140,  40,   0,\n",
       "          0,   0],\n",
       "       [  0,   0,   0,  63, 139, 194, 169,  40, 126, 115, 112, 112, 116,\n",
       "        114, 123, 127, 119, 113, 128,  85,  84, 227, 163, 137,  40,   0,\n",
       "          0,   0],\n",
       "       [  0,   0,   0,  61, 119, 176, 190,  54, 123, 119, 122, 122, 131,\n",
       "        121, 120, 120, 119, 117, 121,  91, 100, 234, 184, 141,  54,   0,\n",
       "          0,   0],\n",
       "       [  0,   0,   0,  82, 125, 195, 185,  59, 121, 115, 117, 116, 119,\n",
       "        127, 114, 123, 116, 121, 113, 100,  89, 240, 183, 141,  57,   0,\n",
       "          0,   0],\n",
       "       [  0,   0,   0,  90, 117, 204, 145,  64, 125, 120, 120, 127, 108,\n",
       "        127, 127, 125, 115, 114, 117, 122,  15, 218, 179, 141,  58,   0,\n",
       "          0,   0],\n",
       "       [  0,   0,   0,  82, 102, 204, 101,  72, 135, 119, 129, 131, 139,\n",
       "        125, 126, 128, 125, 127, 125, 140,  17, 197, 196, 132,  70,   0,\n",
       "          0,   0],\n",
       "       [  0,   0,   0,  92, 108, 206,  70,  82, 153, 126, 132, 133, 134,\n",
       "        133, 139, 138, 134, 137, 134, 160,   0, 138, 213, 125,  83,   0,\n",
       "          0,   0],\n",
       "       [  0,   0,   0, 100, 125, 185,  26,  84, 162, 131, 135, 162, 152,\n",
       "        154, 153, 148, 152, 132, 156, 181,   9, 108, 207, 108,  94,   0,\n",
       "          0,   0],\n",
       "       [  0,   0,   0,  95, 133, 172,   0,   0,   2,  10,   7,   0,   0,\n",
       "          0,   0,   0,   0,   0,   0,  14,   0,  72, 197, 120,  98,   0,\n",
       "          0,   0],\n",
       "       [  0,   0,   0,  91, 133, 164,   0,   0,   0,   0,   0,   0,   0,\n",
       "          0,   0,   0,   0,   0,   0,   0,   0,  27, 187, 128, 102,   0,\n",
       "          0,   0],\n",
       "       [  0,   0,   0,  70, 147, 147,   0,   0,   4,   3,   2,   2,   2,\n",
       "          2,   2,   1,   2,   2,   1,   3,   0,   0, 164, 132,  77,   0,\n",
       "          0,   0],\n",
       "       [  0,   0,   0,  61, 140, 145,   0,   0,   1,   0,   0,   0,   0,\n",
       "          0,   0,   0,   0,   0,   0,   0,   0,   0, 153, 144,  70,   0,\n",
       "          0,   0],\n",
       "       [  0,   0,   0,  51, 144, 126,   0,   0,   1,   0,   0,   0,   0,\n",
       "          0,   0,   0,   0,   0,   0,   0,   0,   0, 126, 126,  42,   0,\n",
       "          0,   0]], dtype=uint8)"
      ]
     },
     "execution_count": 10,
     "metadata": {},
     "output_type": "execute_result"
    }
   ],
   "source": [
    "x_train[n]"
   ]
  },
  {
   "cell_type": "code",
   "execution_count": 11,
   "metadata": {},
   "outputs": [
    {
     "data": {
      "text/plain": [
       "255"
      ]
     },
     "execution_count": 11,
     "metadata": {},
     "output_type": "execute_result"
    }
   ],
   "source": [
    "np.max(x_train[n]) #最大像素"
   ]
  },
  {
   "cell_type": "code",
   "execution_count": 12,
   "metadata": {},
   "outputs": [
    {
     "name": "stdout",
     "output_type": "stream",
     "text": [
      "{0, 1, 2, 3, 4, 5, 6, 7, 8, 9}\n"
     ]
    }
   ],
   "source": [
    "print(set(y_train))#有幾類"
   ]
  },
  {
   "cell_type": "code",
   "execution_count": 13,
   "metadata": {},
   "outputs": [],
   "source": [
    "#處理資料"
   ]
  },
  {
   "cell_type": "code",
   "execution_count": 14,
   "metadata": {},
   "outputs": [],
   "source": [
    "x_train=x_train.reshape(60000,784)/255\n",
    "x_test=x_test.reshape(10000,784)/255"
   ]
  },
  {
   "cell_type": "code",
   "execution_count": 15,
   "metadata": {},
   "outputs": [],
   "source": [
    "from tensorflow.keras.utils import to_categorical"
   ]
  },
  {
   "cell_type": "code",
   "execution_count": 16,
   "metadata": {},
   "outputs": [],
   "source": [
    "y_train = to_categorical(y_train, 10)\n",
    "y_test = to_categorical(y_test, 10)"
   ]
  },
  {
   "cell_type": "code",
   "execution_count": 17,
   "metadata": {},
   "outputs": [
    {
     "data": {
      "text/plain": [
       "array([1., 0., 0., 0., 0., 0., 0., 0., 0., 0.], dtype=float32)"
      ]
     },
     "execution_count": 17,
     "metadata": {},
     "output_type": "execute_result"
    }
   ],
   "source": [
    "y_train[9487]"
   ]
  },
  {
   "cell_type": "code",
   "execution_count": 18,
   "metadata": {},
   "outputs": [],
   "source": [
    "#建神經"
   ]
  },
  {
   "cell_type": "code",
   "execution_count": 19,
   "metadata": {},
   "outputs": [],
   "source": [
    "from tensorflow.keras.models import Sequential\n",
    "from tensorflow.keras.layers import Dense\n",
    "from tensorflow.keras.optimizers import SGD"
   ]
  },
  {
   "cell_type": "code",
   "execution_count": 20,
   "metadata": {},
   "outputs": [],
   "source": [
    "model = Sequential()"
   ]
  },
  {
   "cell_type": "code",
   "execution_count": 21,
   "metadata": {},
   "outputs": [],
   "source": [
    "model.add(Dense(100, input_dim=784, activation='relu'))"
   ]
  },
  {
   "cell_type": "code",
   "execution_count": 22,
   "metadata": {},
   "outputs": [],
   "source": [
    "model.add(Dense(50, activation='relu'))"
   ]
  },
  {
   "cell_type": "code",
   "execution_count": 23,
   "metadata": {},
   "outputs": [],
   "source": [
    "model.add(Dense(10, activation='softmax'))"
   ]
  },
  {
   "cell_type": "code",
   "execution_count": null,
   "metadata": {},
   "outputs": [],
   "source": [
    "model.compile(loss='mse', optimizer=SGD(lr=0.25), metrics=['accuracy'])"
   ]
  },
  {
   "cell_type": "code",
   "execution_count": null,
   "metadata": {},
   "outputs": [],
   "source": [
    "model.summary() #看模型的結構"
   ]
  },
  {
   "cell_type": "code",
   "execution_count": null,
   "metadata": {},
   "outputs": [],
   "source": [
    "#訓練資料"
   ]
  },
  {
   "cell_type": "code",
   "execution_count": null,
   "metadata": {},
   "outputs": [],
   "source": [
    "model.fit(x_train, y_train, batch_size=20, epochs=10)"
   ]
  },
  {
   "cell_type": "code",
   "execution_count": null,
   "metadata": {},
   "outputs": [],
   "source": [
    "#結果"
   ]
  },
  {
   "cell_type": "code",
   "execution_count": null,
   "metadata": {},
   "outputs": [],
   "source": [
    "result = model.predict_classes(x_test)"
   ]
  },
  {
   "cell_type": "code",
   "execution_count": null,
   "metadata": {},
   "outputs": [],
   "source": [
    "n = 8787\n",
    "print('神經網路預測是:', class_names[result[n]])\n",
    "plt.imshow(x_test[n].reshape(28,28), cmap='Greys')"
   ]
  },
  {
   "cell_type": "code",
   "execution_count": null,
   "metadata": {},
   "outputs": [],
   "source": []
  },
  {
   "cell_type": "code",
   "execution_count": null,
   "metadata": {},
   "outputs": [],
   "source": []
  },
  {
   "cell_type": "code",
   "execution_count": null,
   "metadata": {},
   "outputs": [],
   "source": []
  },
  {
   "cell_type": "code",
   "execution_count": null,
   "metadata": {},
   "outputs": [],
   "source": []
  },
  {
   "cell_type": "code",
   "execution_count": null,
   "metadata": {},
   "outputs": [],
   "source": []
  },
  {
   "cell_type": "code",
   "execution_count": null,
   "metadata": {},
   "outputs": [],
   "source": []
  },
  {
   "cell_type": "code",
   "execution_count": null,
   "metadata": {},
   "outputs": [],
   "source": []
  },
  {
   "cell_type": "code",
   "execution_count": null,
   "metadata": {},
   "outputs": [],
   "source": []
  }
 ],
 "metadata": {
  "kernelspec": {
   "display_name": "Python 3",
   "language": "python",
   "name": "python3"
  },
  "language_info": {
   "codemirror_mode": {
    "name": "ipython",
    "version": 3
   },
   "file_extension": ".py",
   "mimetype": "text/x-python",
   "name": "python",
   "nbconvert_exporter": "python",
   "pygments_lexer": "ipython3",
   "version": "3.7.4"
  }
 },
 "nbformat": 4,
 "nbformat_minor": 2
}
